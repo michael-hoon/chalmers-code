{
  "cells": [
    {
      "cell_type": "markdown",
      "metadata": {
        "id": "ldQWE_YHJ-8r"
      },
      "source": [
        "# Programming Assignment 1: Introduction to ML Workflow and Decision Trees\n",
        "\n",
        "\n",
        "**Members:** Michael Hoon Yong Hau (yongm@chalmers.se), Chua Shan Hong (shanho@chalmers.se)\n",
        "\n",
        "**PA1 Group 16**\n",
        "\n"
      ]
    },
    {
      "cell_type": "markdown",
      "metadata": {
        "id": "9P1kd2qXQzLc"
      },
      "source": [
        "#Task 1: A classification example: fetal heart condition diagnosis"
      ]
    },
    {
      "cell_type": "markdown",
      "metadata": {
        "id": "X0rMyKNpUbjc"
      },
      "source": [
        "##Reading the Data"
      ]
    },
    {
      "cell_type": "code",
      "execution_count": null,
      "metadata": {
        "colab": {
          "base_uri": "https://localhost:8080/",
          "height": 235
        },
        "id": "52dpi5DMPM3Z",
        "outputId": "9d5a1889-7b31-4c84-85b4-3936cd8b014e"
      },
      "outputs": [
        {
          "data": {
            "application/vnd.google.colaboratory.intrinsic+json": {
              "type": "dataframe",
              "variable_name": "X"
            },
            "text/html": [
              "\n",
              "  <div id=\"df-a7101c8e-4bc7-4a9a-b6c8-8e25f0d6fb0b\" class=\"colab-df-container\">\n",
              "    <div>\n",
              "<style scoped>\n",
              "    .dataframe tbody tr th:only-of-type {\n",
              "        vertical-align: middle;\n",
              "    }\n",
              "\n",
              "    .dataframe tbody tr th {\n",
              "        vertical-align: top;\n",
              "    }\n",
              "\n",
              "    .dataframe thead th {\n",
              "        text-align: right;\n",
              "    }\n",
              "</style>\n",
              "<table border=\"1\" class=\"dataframe\">\n",
              "  <thead>\n",
              "    <tr style=\"text-align: right;\">\n",
              "      <th></th>\n",
              "      <th>LB</th>\n",
              "      <th>AC</th>\n",
              "      <th>FM</th>\n",
              "      <th>UC</th>\n",
              "      <th>DL</th>\n",
              "      <th>DS</th>\n",
              "      <th>DP</th>\n",
              "      <th>ASTV</th>\n",
              "      <th>MSTV</th>\n",
              "      <th>ALTV</th>\n",
              "      <th>...</th>\n",
              "      <th>Width</th>\n",
              "      <th>Min</th>\n",
              "      <th>Max</th>\n",
              "      <th>Nmax</th>\n",
              "      <th>Nzeros</th>\n",
              "      <th>Mode</th>\n",
              "      <th>Mean</th>\n",
              "      <th>Median</th>\n",
              "      <th>Variance</th>\n",
              "      <th>Tendency</th>\n",
              "    </tr>\n",
              "  </thead>\n",
              "  <tbody>\n",
              "    <tr>\n",
              "      <th>658</th>\n",
              "      <td>130.0</td>\n",
              "      <td>1.0</td>\n",
              "      <td>0.0</td>\n",
              "      <td>3.0</td>\n",
              "      <td>0.0</td>\n",
              "      <td>0.0</td>\n",
              "      <td>0.0</td>\n",
              "      <td>24.0</td>\n",
              "      <td>1.2</td>\n",
              "      <td>12.0</td>\n",
              "      <td>...</td>\n",
              "      <td>35.0</td>\n",
              "      <td>120.0</td>\n",
              "      <td>155.0</td>\n",
              "      <td>1.0</td>\n",
              "      <td>0.0</td>\n",
              "      <td>134.0</td>\n",
              "      <td>133.0</td>\n",
              "      <td>135.0</td>\n",
              "      <td>1.0</td>\n",
              "      <td>0.0</td>\n",
              "    </tr>\n",
              "    <tr>\n",
              "      <th>1734</th>\n",
              "      <td>134.0</td>\n",
              "      <td>9.0</td>\n",
              "      <td>1.0</td>\n",
              "      <td>8.0</td>\n",
              "      <td>5.0</td>\n",
              "      <td>0.0</td>\n",
              "      <td>0.0</td>\n",
              "      <td>59.0</td>\n",
              "      <td>1.2</td>\n",
              "      <td>0.0</td>\n",
              "      <td>...</td>\n",
              "      <td>109.0</td>\n",
              "      <td>80.0</td>\n",
              "      <td>189.0</td>\n",
              "      <td>6.0</td>\n",
              "      <td>0.0</td>\n",
              "      <td>150.0</td>\n",
              "      <td>146.0</td>\n",
              "      <td>150.0</td>\n",
              "      <td>33.0</td>\n",
              "      <td>0.0</td>\n",
              "    </tr>\n",
              "    <tr>\n",
              "      <th>1226</th>\n",
              "      <td>125.0</td>\n",
              "      <td>1.0</td>\n",
              "      <td>0.0</td>\n",
              "      <td>4.0</td>\n",
              "      <td>0.0</td>\n",
              "      <td>0.0</td>\n",
              "      <td>0.0</td>\n",
              "      <td>43.0</td>\n",
              "      <td>0.7</td>\n",
              "      <td>31.0</td>\n",
              "      <td>...</td>\n",
              "      <td>21.0</td>\n",
              "      <td>120.0</td>\n",
              "      <td>141.0</td>\n",
              "      <td>0.0</td>\n",
              "      <td>0.0</td>\n",
              "      <td>131.0</td>\n",
              "      <td>130.0</td>\n",
              "      <td>132.0</td>\n",
              "      <td>1.0</td>\n",
              "      <td>0.0</td>\n",
              "    </tr>\n",
              "    <tr>\n",
              "      <th>1808</th>\n",
              "      <td>143.0</td>\n",
              "      <td>0.0</td>\n",
              "      <td>0.0</td>\n",
              "      <td>1.0</td>\n",
              "      <td>0.0</td>\n",
              "      <td>0.0</td>\n",
              "      <td>0.0</td>\n",
              "      <td>69.0</td>\n",
              "      <td>0.3</td>\n",
              "      <td>6.0</td>\n",
              "      <td>...</td>\n",
              "      <td>27.0</td>\n",
              "      <td>132.0</td>\n",
              "      <td>159.0</td>\n",
              "      <td>1.0</td>\n",
              "      <td>0.0</td>\n",
              "      <td>145.0</td>\n",
              "      <td>144.0</td>\n",
              "      <td>146.0</td>\n",
              "      <td>1.0</td>\n",
              "      <td>0.0</td>\n",
              "    </tr>\n",
              "    <tr>\n",
              "      <th>825</th>\n",
              "      <td>152.0</td>\n",
              "      <td>0.0</td>\n",
              "      <td>0.0</td>\n",
              "      <td>4.0</td>\n",
              "      <td>0.0</td>\n",
              "      <td>0.0</td>\n",
              "      <td>0.0</td>\n",
              "      <td>62.0</td>\n",
              "      <td>0.4</td>\n",
              "      <td>59.0</td>\n",
              "      <td>...</td>\n",
              "      <td>25.0</td>\n",
              "      <td>136.0</td>\n",
              "      <td>161.0</td>\n",
              "      <td>0.0</td>\n",
              "      <td>0.0</td>\n",
              "      <td>159.0</td>\n",
              "      <td>156.0</td>\n",
              "      <td>158.0</td>\n",
              "      <td>1.0</td>\n",
              "      <td>1.0</td>\n",
              "    </tr>\n",
              "  </tbody>\n",
              "</table>\n",
              "<p>5 rows × 21 columns</p>\n",
              "</div>\n",
              "    <div class=\"colab-df-buttons\">\n",
              "\n",
              "  <div class=\"colab-df-container\">\n",
              "    <button class=\"colab-df-convert\" onclick=\"convertToInteractive('df-a7101c8e-4bc7-4a9a-b6c8-8e25f0d6fb0b')\"\n",
              "            title=\"Convert this dataframe to an interactive table.\"\n",
              "            style=\"display:none;\">\n",
              "\n",
              "  <svg xmlns=\"http://www.w3.org/2000/svg\" height=\"24px\" viewBox=\"0 -960 960 960\">\n",
              "    <path d=\"M120-120v-720h720v720H120Zm60-500h600v-160H180v160Zm220 220h160v-160H400v160Zm0 220h160v-160H400v160ZM180-400h160v-160H180v160Zm440 0h160v-160H620v160ZM180-180h160v-160H180v160Zm440 0h160v-160H620v160Z\"/>\n",
              "  </svg>\n",
              "    </button>\n",
              "\n",
              "  <style>\n",
              "    .colab-df-container {\n",
              "      display:flex;\n",
              "      gap: 12px;\n",
              "    }\n",
              "\n",
              "    .colab-df-convert {\n",
              "      background-color: #E8F0FE;\n",
              "      border: none;\n",
              "      border-radius: 50%;\n",
              "      cursor: pointer;\n",
              "      display: none;\n",
              "      fill: #1967D2;\n",
              "      height: 32px;\n",
              "      padding: 0 0 0 0;\n",
              "      width: 32px;\n",
              "    }\n",
              "\n",
              "    .colab-df-convert:hover {\n",
              "      background-color: #E2EBFA;\n",
              "      box-shadow: 0px 1px 2px rgba(60, 64, 67, 0.3), 0px 1px 3px 1px rgba(60, 64, 67, 0.15);\n",
              "      fill: #174EA6;\n",
              "    }\n",
              "\n",
              "    .colab-df-buttons div {\n",
              "      margin-bottom: 4px;\n",
              "    }\n",
              "\n",
              "    [theme=dark] .colab-df-convert {\n",
              "      background-color: #3B4455;\n",
              "      fill: #D2E3FC;\n",
              "    }\n",
              "\n",
              "    [theme=dark] .colab-df-convert:hover {\n",
              "      background-color: #434B5C;\n",
              "      box-shadow: 0px 1px 3px 1px rgba(0, 0, 0, 0.15);\n",
              "      filter: drop-shadow(0px 1px 2px rgba(0, 0, 0, 0.3));\n",
              "      fill: #FFFFFF;\n",
              "    }\n",
              "  </style>\n",
              "\n",
              "    <script>\n",
              "      const buttonEl =\n",
              "        document.querySelector('#df-a7101c8e-4bc7-4a9a-b6c8-8e25f0d6fb0b button.colab-df-convert');\n",
              "      buttonEl.style.display =\n",
              "        google.colab.kernel.accessAllowed ? 'block' : 'none';\n",
              "\n",
              "      async function convertToInteractive(key) {\n",
              "        const element = document.querySelector('#df-a7101c8e-4bc7-4a9a-b6c8-8e25f0d6fb0b');\n",
              "        const dataTable =\n",
              "          await google.colab.kernel.invokeFunction('convertToInteractive',\n",
              "                                                    [key], {});\n",
              "        if (!dataTable) return;\n",
              "\n",
              "        const docLinkHtml = 'Like what you see? Visit the ' +\n",
              "          '<a target=\"_blank\" href=https://colab.research.google.com/notebooks/data_table.ipynb>data table notebook</a>'\n",
              "          + ' to learn more about interactive tables.';\n",
              "        element.innerHTML = '';\n",
              "        dataTable['output_type'] = 'display_data';\n",
              "        await google.colab.output.renderOutput(dataTable, element);\n",
              "        const docLink = document.createElement('div');\n",
              "        docLink.innerHTML = docLinkHtml;\n",
              "        element.appendChild(docLink);\n",
              "      }\n",
              "    </script>\n",
              "  </div>\n",
              "\n",
              "\n",
              "<div id=\"df-ed761f6b-40e2-4140-a8bf-2933628a7fe2\">\n",
              "  <button class=\"colab-df-quickchart\" onclick=\"quickchart('df-ed761f6b-40e2-4140-a8bf-2933628a7fe2')\"\n",
              "            title=\"Suggest charts\"\n",
              "            style=\"display:none;\">\n",
              "\n",
              "<svg xmlns=\"http://www.w3.org/2000/svg\" height=\"24px\"viewBox=\"0 0 24 24\"\n",
              "     width=\"24px\">\n",
              "    <g>\n",
              "        <path d=\"M19 3H5c-1.1 0-2 .9-2 2v14c0 1.1.9 2 2 2h14c1.1 0 2-.9 2-2V5c0-1.1-.9-2-2-2zM9 17H7v-7h2v7zm4 0h-2V7h2v10zm4 0h-2v-4h2v4z\"/>\n",
              "    </g>\n",
              "</svg>\n",
              "  </button>\n",
              "\n",
              "<style>\n",
              "  .colab-df-quickchart {\n",
              "      --bg-color: #E8F0FE;\n",
              "      --fill-color: #1967D2;\n",
              "      --hover-bg-color: #E2EBFA;\n",
              "      --hover-fill-color: #174EA6;\n",
              "      --disabled-fill-color: #AAA;\n",
              "      --disabled-bg-color: #DDD;\n",
              "  }\n",
              "\n",
              "  [theme=dark] .colab-df-quickchart {\n",
              "      --bg-color: #3B4455;\n",
              "      --fill-color: #D2E3FC;\n",
              "      --hover-bg-color: #434B5C;\n",
              "      --hover-fill-color: #FFFFFF;\n",
              "      --disabled-bg-color: #3B4455;\n",
              "      --disabled-fill-color: #666;\n",
              "  }\n",
              "\n",
              "  .colab-df-quickchart {\n",
              "    background-color: var(--bg-color);\n",
              "    border: none;\n",
              "    border-radius: 50%;\n",
              "    cursor: pointer;\n",
              "    display: none;\n",
              "    fill: var(--fill-color);\n",
              "    height: 32px;\n",
              "    padding: 0;\n",
              "    width: 32px;\n",
              "  }\n",
              "\n",
              "  .colab-df-quickchart:hover {\n",
              "    background-color: var(--hover-bg-color);\n",
              "    box-shadow: 0 1px 2px rgba(60, 64, 67, 0.3), 0 1px 3px 1px rgba(60, 64, 67, 0.15);\n",
              "    fill: var(--button-hover-fill-color);\n",
              "  }\n",
              "\n",
              "  .colab-df-quickchart-complete:disabled,\n",
              "  .colab-df-quickchart-complete:disabled:hover {\n",
              "    background-color: var(--disabled-bg-color);\n",
              "    fill: var(--disabled-fill-color);\n",
              "    box-shadow: none;\n",
              "  }\n",
              "\n",
              "  .colab-df-spinner {\n",
              "    border: 2px solid var(--fill-color);\n",
              "    border-color: transparent;\n",
              "    border-bottom-color: var(--fill-color);\n",
              "    animation:\n",
              "      spin 1s steps(1) infinite;\n",
              "  }\n",
              "\n",
              "  @keyframes spin {\n",
              "    0% {\n",
              "      border-color: transparent;\n",
              "      border-bottom-color: var(--fill-color);\n",
              "      border-left-color: var(--fill-color);\n",
              "    }\n",
              "    20% {\n",
              "      border-color: transparent;\n",
              "      border-left-color: var(--fill-color);\n",
              "      border-top-color: var(--fill-color);\n",
              "    }\n",
              "    30% {\n",
              "      border-color: transparent;\n",
              "      border-left-color: var(--fill-color);\n",
              "      border-top-color: var(--fill-color);\n",
              "      border-right-color: var(--fill-color);\n",
              "    }\n",
              "    40% {\n",
              "      border-color: transparent;\n",
              "      border-right-color: var(--fill-color);\n",
              "      border-top-color: var(--fill-color);\n",
              "    }\n",
              "    60% {\n",
              "      border-color: transparent;\n",
              "      border-right-color: var(--fill-color);\n",
              "    }\n",
              "    80% {\n",
              "      border-color: transparent;\n",
              "      border-right-color: var(--fill-color);\n",
              "      border-bottom-color: var(--fill-color);\n",
              "    }\n",
              "    90% {\n",
              "      border-color: transparent;\n",
              "      border-bottom-color: var(--fill-color);\n",
              "    }\n",
              "  }\n",
              "</style>\n",
              "\n",
              "  <script>\n",
              "    async function quickchart(key) {\n",
              "      const quickchartButtonEl =\n",
              "        document.querySelector('#' + key + ' button');\n",
              "      quickchartButtonEl.disabled = true;  // To prevent multiple clicks.\n",
              "      quickchartButtonEl.classList.add('colab-df-spinner');\n",
              "      try {\n",
              "        const charts = await google.colab.kernel.invokeFunction(\n",
              "            'suggestCharts', [key], {});\n",
              "      } catch (error) {\n",
              "        console.error('Error during call to suggestCharts:', error);\n",
              "      }\n",
              "      quickchartButtonEl.classList.remove('colab-df-spinner');\n",
              "      quickchartButtonEl.classList.add('colab-df-quickchart-complete');\n",
              "    }\n",
              "    (() => {\n",
              "      let quickchartButtonEl =\n",
              "        document.querySelector('#df-ed761f6b-40e2-4140-a8bf-2933628a7fe2 button');\n",
              "      quickchartButtonEl.style.display =\n",
              "        google.colab.kernel.accessAllowed ? 'block' : 'none';\n",
              "    })();\n",
              "  </script>\n",
              "</div>\n",
              "\n",
              "    </div>\n",
              "  </div>\n"
            ],
            "text/plain": [
              "         LB   AC   FM   UC   DL   DS   DP  ASTV  MSTV  ALTV  ...  Width  \\\n",
              "658   130.0  1.0  0.0  3.0  0.0  0.0  0.0  24.0   1.2  12.0  ...   35.0   \n",
              "1734  134.0  9.0  1.0  8.0  5.0  0.0  0.0  59.0   1.2   0.0  ...  109.0   \n",
              "1226  125.0  1.0  0.0  4.0  0.0  0.0  0.0  43.0   0.7  31.0  ...   21.0   \n",
              "1808  143.0  0.0  0.0  1.0  0.0  0.0  0.0  69.0   0.3   6.0  ...   27.0   \n",
              "825   152.0  0.0  0.0  4.0  0.0  0.0  0.0  62.0   0.4  59.0  ...   25.0   \n",
              "\n",
              "        Min    Max  Nmax  Nzeros   Mode   Mean  Median  Variance  Tendency  \n",
              "658   120.0  155.0   1.0     0.0  134.0  133.0   135.0       1.0       0.0  \n",
              "1734   80.0  189.0   6.0     0.0  150.0  146.0   150.0      33.0       0.0  \n",
              "1226  120.0  141.0   0.0     0.0  131.0  130.0   132.0       1.0       0.0  \n",
              "1808  132.0  159.0   1.0     0.0  145.0  144.0   146.0       1.0       0.0  \n",
              "825   136.0  161.0   0.0     0.0  159.0  156.0   158.0       1.0       1.0  \n",
              "\n",
              "[5 rows x 21 columns]"
            ]
          },
          "execution_count": 1,
          "metadata": {},
          "output_type": "execute_result"
        }
      ],
      "source": [
        "import pandas as pd\n",
        "from sklearn.model_selection import train_test_split\n",
        "\n",
        "# Read the CSV file.\n",
        "data = pd.read_csv('CTG.csv', skiprows=1)\n",
        "\n",
        "# Select the relevant numerical columns.\n",
        "selected_cols = ['LB', 'AC', 'FM', 'UC', 'DL', 'DS', 'DP', 'ASTV', 'MSTV', 'ALTV',\n",
        "                 'MLTV', 'Width', 'Min', 'Max', 'Nmax', 'Nzeros', 'Mode', 'Mean',\n",
        "                 'Median', 'Variance', 'Tendency', 'NSP']\n",
        "data = data[selected_cols].dropna()\n",
        "\n",
        "# Shuffle the dataset.\n",
        "data_shuffled = data.sample(frac=1.0, random_state=0)\n",
        "\n",
        "# Split into input part X and output part Y.\n",
        "X = data_shuffled.drop('NSP', axis=1)\n",
        "\n",
        "# Map the diagnosis code to a human-readable label.\n",
        "def to_label(y):\n",
        "    return [None, 'normal', 'suspect', 'pathologic'][(int(y))]\n",
        "\n",
        "Y = data_shuffled['NSP'].apply(to_label)\n",
        "\n",
        "# Partition the data into training and test sets.\n",
        "Xtrain, Xtest, Ytrain, Ytest = train_test_split(X, Y, test_size=0.2, random_state=0)\n",
        "\n",
        "X.head()"
      ]
    },
    {
      "cell_type": "code",
      "execution_count": null,
      "metadata": {
        "colab": {
          "base_uri": "https://localhost:8080/"
        },
        "id": "IEbduB6gMJPk",
        "outputId": "bfbd1719-d881-417f-84bb-9222ab07d1ff"
      },
      "outputs": [
        {
          "data": {
            "text/plain": [
              "(2126, 21)"
            ]
          },
          "execution_count": 2,
          "metadata": {},
          "output_type": "execute_result"
        }
      ],
      "source": [
        "X.shape"
      ]
    },
    {
      "cell_type": "markdown",
      "metadata": {
        "id": "0faF2HC8UggM"
      },
      "source": [
        "##Training the Baseline Classifier"
      ]
    },
    {
      "cell_type": "code",
      "execution_count": null,
      "metadata": {
        "colab": {
          "base_uri": "https://localhost:8080/"
        },
        "id": "VMxQ4gIAUlZw",
        "outputId": "c2f13e51-91f6-4fc8-c81a-378fb7168fc7"
      },
      "outputs": [
        {
          "data": {
            "text/plain": [
              "array([0.78235294, 0.78235294, 0.77941176, 0.77941176, 0.77941176])"
            ]
          },
          "execution_count": 3,
          "metadata": {},
          "output_type": "execute_result"
        }
      ],
      "source": [
        "from sklearn.dummy import DummyClassifier\n",
        "from sklearn.model_selection import cross_val_score\n",
        "\n",
        "clf = DummyClassifier(strategy='most_frequent') # using dummy classifier as a baseline\n",
        "cross_val_score(clf, Xtrain, Ytrain) # cross validation over training set for classification accuracy"
      ]
    },
    {
      "cell_type": "markdown",
      "metadata": {
        "id": "ynDMTF_5Nggp"
      },
      "source": [
        "We have a NumPy array that contains the accuracies on the (default 5) different folds in the cross-validation. Now we want to aggregate these scores to get a single score which we can use to compare different classifiers. We will be computing the mean accuracy across all the 5 folds using NumPy."
      ]
    },
    {
      "cell_type": "code",
      "execution_count": null,
      "metadata": {
        "colab": {
          "base_uri": "https://localhost:8080/"
        },
        "id": "NbnPlNHbCVr6",
        "outputId": "e4b8f0e8-d69a-43e9-dfa6-0932276abfa2"
      },
      "outputs": [
        {
          "data": {
            "text/plain": [
              "np.float64(0.7805882352941176)"
            ]
          },
          "execution_count": 4,
          "metadata": {},
          "output_type": "execute_result"
        }
      ],
      "source": [
        "import numpy as np\n",
        "\n",
        "np.mean(cross_val_score(clf, Xtrain, Ytrain))"
      ]
    },
    {
      "cell_type": "markdown",
      "metadata": {
        "id": "v5hauZZrOWTH"
      },
      "source": [
        "Here we obtain a mean accuracy of **~78.05%** across all 5 folds."
      ]
    },
    {
      "cell_type": "markdown",
      "metadata": {
        "id": "TGdzV9obPZmb"
      },
      "source": [
        "## Trying Out Different Classifiers"
      ]
    },
    {
      "cell_type": "markdown",
      "metadata": {
        "id": "Vqcn8sZPP_zT"
      },
      "source": [
        "The suggested classifiers are as follows:\n",
        "\n",
        "Tree-based classifiers:\n",
        "\n",
        "    sklearn.tree.DecisionTreeClassifier\n",
        "    sklearn.ensemble.RandomForestClassifier\n",
        "    sklearn.ensemble.GradientBoostingClassifier\n",
        "\n",
        "Linear classifiers:\n",
        "\n",
        "    sklearn.linear_model.Perceptron\n",
        "    sklearn.linear_model.LogisticRegression\n",
        "    sklearn.svm.LinearSVC\n",
        "\n",
        "Neural network classifier (will take longer time to train):\n",
        "\n",
        "    sklearn.neural_network.MLPClassifier\n",
        "\n",
        "We will be attempting some of these to try and improve the cross-validation accuracy. Furthermore, to optimise the final accuracy we will be using hyperparameter tuning methods, specifically the `GridSearchCV`. This searches for the best combination of hyperparameters for a model by testing all possible combinations in a predefined grid. For each combination of hyperparameters in the grid, it runs `cross_val_score` internally. The final 3 chosen classifiers were the Decision Tree Classifier, the Random Forest Classifier, and the Gradient Boosting Classifier.\n"
      ]
    },
    {
      "cell_type": "markdown",
      "metadata": {
        "id": "wkQdHq5_QOOF"
      },
      "source": [
        "### Decision Tree Classifier"
      ]
    },
    {
      "cell_type": "code",
      "execution_count": null,
      "metadata": {
        "colab": {
          "base_uri": "https://localhost:8080/"
        },
        "id": "OCuW57V5OdBu",
        "outputId": "e351d6d1-3fe8-4c72-86a4-bb551062db64"
      },
      "outputs": [
        {
          "name": "stdout",
          "output_type": "stream",
          "text": [
            "Best parameters: {'criterion': 'gini', 'max_depth': 7, 'min_samples_split': 10}\n",
            "Best CV accuracy: 0.9376470588235293\n"
          ]
        }
      ],
      "source": [
        "from sklearn.tree import DecisionTreeClassifier\n",
        "from sklearn.model_selection import GridSearchCV\n",
        "\n",
        "param_grid = {\n",
        "    'max_depth': [3, 5, 7, 10, None],\n",
        "    'min_samples_split': [2, 5, 10],\n",
        "    'criterion': ['gini', 'entropy']\n",
        "} # using grid of reasonable values\n",
        "\n",
        "dtc = DecisionTreeClassifier(random_state=69)\n",
        "grid_search = GridSearchCV(dtc, param_grid, cv=5, scoring='accuracy')\n",
        "grid_search.fit(Xtrain, Ytrain)\n",
        "\n",
        "print(\"Best parameters:\", grid_search.best_params_)\n",
        "print(\"Best CV accuracy:\", grid_search.best_score_)"
      ]
    },
    {
      "cell_type": "markdown",
      "metadata": {
        "id": "bWa59pMLQwCl"
      },
      "source": [
        "The decision tree classifier yields a mean accuracy of **~93.8%**."
      ]
    },
    {
      "cell_type": "markdown",
      "metadata": {
        "id": "FEulZ104Q3K2"
      },
      "source": [
        "### Random Forest Classifier"
      ]
    },
    {
      "cell_type": "code",
      "execution_count": null,
      "metadata": {
        "colab": {
          "base_uri": "https://localhost:8080/"
        },
        "id": "AYrIQ9juQ54T",
        "outputId": "f482eb69-7764-4154-ffa3-c11cbbbb86fa"
      },
      "outputs": [
        {
          "name": "stdout",
          "output_type": "stream",
          "text": [
            "Best parameters: {'max_depth': 10, 'max_features': 'sqrt', 'n_estimators': 100}\n",
            "Best CV accuracy: 0.941764705882353\n"
          ]
        }
      ],
      "source": [
        "from sklearn.ensemble import RandomForestClassifier\n",
        "\n",
        "param_grid = {\n",
        "    'n_estimators': [100, 200],\n",
        "    'max_depth': [5, 10, None],\n",
        "    'max_features': ['sqrt', 'log2']\n",
        "} # using grid of reasonable values\n",
        "\n",
        "rfc = RandomForestClassifier(random_state=69)\n",
        "grid_search = GridSearchCV(rfc, param_grid, cv=5, scoring='accuracy')\n",
        "grid_search.fit(Xtrain, Ytrain)\n",
        "\n",
        "print(\"Best parameters:\", grid_search.best_params_)\n",
        "print(\"Best CV accuracy:\", grid_search.best_score_)"
      ]
    },
    {
      "cell_type": "markdown",
      "metadata": {
        "id": "lFl_lNwkRA4a"
      },
      "source": [
        "The random forest classifier yields a mean accuracy of **~94.2%**."
      ]
    },
    {
      "cell_type": "markdown",
      "metadata": {
        "id": "vbluNcsRRFty"
      },
      "source": [
        "### Gradient Boosting Classifier"
      ]
    },
    {
      "cell_type": "code",
      "execution_count": null,
      "metadata": {
        "colab": {
          "base_uri": "https://localhost:8080/"
        },
        "id": "EkRKy_cmSOka",
        "outputId": "634ffd19-aa55-4162-c68e-aeda736cbeb1"
      },
      "outputs": [
        {
          "name": "stdout",
          "output_type": "stream",
          "text": [
            "Best parameters: {'learning_rate': 0.2, 'max_depth': 3, 'n_estimators': 100}\n",
            "Best CV accuracy: 0.951764705882353\n"
          ]
        }
      ],
      "source": [
        "from sklearn.ensemble import GradientBoostingClassifier\n",
        "\n",
        "param_grid = {\n",
        "    'n_estimators': [50, 100],\n",
        "    'learning_rate': [0.01, 0.1, 0.2],\n",
        "    'max_depth': [3, 5, 7]\n",
        "} # using grid of reasonable values\n",
        "\n",
        "gbc = GradientBoostingClassifier(random_state=69)\n",
        "grid_search = GridSearchCV(gbc, param_grid, cv=5, scoring='accuracy')\n",
        "grid_search.fit(Xtrain, Ytrain)\n",
        "\n",
        "print(\"Best parameters:\", grid_search.best_params_)\n",
        "print(\"Best CV accuracy:\", grid_search.best_score_)"
      ]
    },
    {
      "cell_type": "markdown",
      "metadata": {
        "id": "JaKYDmQVTmT-"
      },
      "source": [
        "The Gradient Boosting classifier yields a mean accuracy of **~95.2%**."
      ]
    },
    {
      "cell_type": "markdown",
      "metadata": {
        "id": "lMHcgwISUgMx"
      },
      "source": [
        "## Final Evaluation"
      ]
    },
    {
      "cell_type": "markdown",
      "metadata": {
        "id": "JbZ8plzNUieX"
      },
      "source": [
        "From the above, the classifier that gives the highest accuracy is the **Gradient Boosting Classifier at 95.2%**. From the scikit-learn documentation, \"*this algorithm builds an additive model in a forward stage-wise fashion; it allows for the optimization of arbitrary differentiable loss functions.*\"\n",
        "\n",
        "Gradient Boosting in essence is a form of **ensemble learning method** that builds a strong predictive model by combining **multiple weak learners** (usually decision trees) in a sequential, additive manner. Intuitively, it iteratively adds decision trees to correct the mistakes of the previous trees. Each new tree focuses on the residual errors of the existing ensemble, which refines the model's prediction iteratively. Furthermore, it has regularisation techniques such as tree depth limits (`max_depth`) to prevent overfitting. Thus, this model performed relatively well compared to the others and the baseline model.\n",
        "\n",
        "\n"
      ]
    },
    {
      "cell_type": "markdown",
      "metadata": {
        "id": "xSffyDubZqut"
      },
      "source": [
        " We will proceed to train the Gradient Boosting Classifier on the whole training set and evaluate it on the held-out test set."
      ]
    },
    {
      "cell_type": "code",
      "execution_count": null,
      "metadata": {
        "colab": {
          "base_uri": "https://localhost:8080/"
        },
        "id": "zkCF2vMPUtJg",
        "outputId": "7ca2a281-ece7-420a-e393-8674824c4f9b"
      },
      "outputs": [
        {
          "name": "stdout",
          "output_type": "stream",
          "text": [
            "0.9225352112676056\n"
          ]
        }
      ],
      "source": [
        "from sklearn.metrics import accuracy_score\n",
        "\n",
        "clf = GradientBoostingClassifier(random_state=69, learning_rate=0.2, max_depth=3, n_estimators=100)\n",
        "\n",
        "clf.fit(Xtrain, Ytrain)\n",
        "Yguess = clf.predict(Xtest)\n",
        "\n",
        "print(accuracy_score(Ytest, Yguess))"
      ]
    },
    {
      "cell_type": "markdown",
      "metadata": {
        "id": "Cp7BGP42ZgGa"
      },
      "source": [
        "The final accuracy score of the test set is **~92.3%**."
      ]
    },
    {
      "cell_type": "markdown",
      "metadata": {
        "id": "JoKCCiF_U6MD"
      },
      "source": [
        "# Task 2: Decision trees for classification"
      ]
    },
    {
      "cell_type": "markdown",
      "metadata": {
        "id": "woXWrl8IfYZW"
      },
      "source": [
        "Below shows the given code in the lecture for the `TreeClassifier`, and the respective base classes."
      ]
    },
    {
      "cell_type": "markdown",
      "metadata": {
        "id": "NsqTD0ZLb9uO"
      },
      "source": [
        "### Decision Tree Leaf"
      ]
    },
    {
      "cell_type": "code",
      "execution_count": null,
      "metadata": {
        "id": "DVRIo_LMb0XB"
      },
      "outputs": [],
      "source": [
        "class DecisionTreeLeaf:\n",
        "\n",
        "    def __init__(self, value):\n",
        "        self.value = value\n",
        "\n",
        "    # This method computes the prediction for this leaf node. This will just return a constant value.\n",
        "    def predict(self, x):\n",
        "        return self.value\n",
        "\n",
        "    # Utility function to draw a tree visually using graphviz.\n",
        "    def draw_tree(self, graph, node_counter, names):\n",
        "        node_id = str(node_counter)\n",
        "        val_str = f'{self.value:.4g}' if isinstance(self.value, float) else str(self.value)\n",
        "        graph.node(node_id, val_str, style='filled')\n",
        "        return node_counter+1, node_id\n",
        "\n",
        "    def __eq__(self, other):\n",
        "        if isinstance(other, DecisionTreeLeaf):\n",
        "            return self.value == other.value\n",
        "        else:\n",
        "            return False"
      ]
    },
    {
      "cell_type": "markdown",
      "metadata": {
        "id": "SGGsAVf-cCDF"
      },
      "source": [
        "### Decision Tree Branch"
      ]
    },
    {
      "cell_type": "code",
      "execution_count": null,
      "metadata": {
        "id": "fm1I7q4zcDZI"
      },
      "outputs": [],
      "source": [
        "class DecisionTreeBranch:\n",
        "\n",
        "    def __init__(self, feature, threshold, low_subtree, high_subtree):\n",
        "        self.feature = feature\n",
        "        self.threshold = threshold\n",
        "        self.low_subtree = low_subtree\n",
        "        self.high_subtree = high_subtree\n",
        "\n",
        "    # For a branch node, we compute the prediction by first considering the feature, and then\n",
        "    # calling the upper or lower subtree, depending on whether the feature is or isn't greater\n",
        "    # than the threshold.\n",
        "    def predict(self, x):\n",
        "        if x[self.feature] <= self.threshold:\n",
        "            return self.low_subtree.predict(x)\n",
        "        else:\n",
        "            return self.high_subtree.predict(x)\n",
        "\n",
        "    # Utility function to draw a tree visually using graphviz.\n",
        "    def draw_tree(self, graph, node_counter, names):\n",
        "        node_counter, low_id = self.low_subtree.draw_tree(graph, node_counter, names)\n",
        "        node_counter, high_id = self.high_subtree.draw_tree(graph, node_counter, names)\n",
        "        node_id = str(node_counter)\n",
        "        fname = f'F{self.feature}' if names is None else names[self.feature]\n",
        "        lbl = f'{fname} > {self.threshold:.4g}?'\n",
        "        graph.node(node_id, lbl, shape='box', fillcolor='yellow', style='filled, rounded')\n",
        "        graph.edge(node_id, low_id, 'False')\n",
        "        graph.edge(node_id, high_id, 'True')\n",
        "        return node_counter+1, node_id"
      ]
    },
    {
      "cell_type": "markdown",
      "metadata": {
        "id": "rL2rjIApcG6q"
      },
      "source": [
        "### Decision Tree"
      ]
    },
    {
      "cell_type": "code",
      "execution_count": null,
      "metadata": {
        "id": "gPv9eKrIcLag"
      },
      "outputs": [],
      "source": [
        "from graphviz import Digraph\n",
        "from sklearn.base import BaseEstimator, ClassifierMixin\n",
        "from abc import ABC, abstractmethod\n",
        "\n",
        "class DecisionTree(ABC, BaseEstimator):\n",
        "\n",
        "    def __init__(self, max_depth):\n",
        "        super().__init__()\n",
        "        self.max_depth = max_depth\n",
        "\n",
        "    # As usual in scikit-learn, the training method is called *fit*. We first process the dataset so that\n",
        "    # we're sure that it's represented as a NumPy matrix. Then we call the recursive tree-building method\n",
        "    # called make_tree (see below).\n",
        "    def fit(self, X, Y):\n",
        "        if isinstance(X, pd.DataFrame):\n",
        "            self.names = X.columns\n",
        "            X = X.to_numpy()\n",
        "        elif isinstance(X, list):\n",
        "            self.names = None\n",
        "            X = np.array(X)\n",
        "        else:\n",
        "            self.names = None\n",
        "        Y = np.array(Y)\n",
        "        self.root = self.make_tree(X, Y, self.max_depth)\n",
        "\n",
        "    def draw_tree(self):\n",
        "        graph = Digraph()\n",
        "        self.root.draw_tree(graph, 0, self.names)\n",
        "        return graph\n",
        "\n",
        "    # By scikit-learn convention, the method *predict* computes the classification or regression output\n",
        "    # for a set of instances.\n",
        "    # To implement it, we call a separate method that carries out the prediction for one instance.\n",
        "    def predict(self, X):\n",
        "        if isinstance(X, pd.DataFrame):\n",
        "            X = X.to_numpy()\n",
        "        return [self.predict_one(x) for x in X]\n",
        "\n",
        "    # Predicting the output for one instance.\n",
        "    def predict_one(self, x):\n",
        "        return self.root.predict(x)\n",
        "\n",
        "    # This is the recursive training\n",
        "    def make_tree(self, X, Y, max_depth):\n",
        "\n",
        "        # We start by computing the default value that will be used if we'll return a leaf node.\n",
        "        # For classifiers, this will be the most common value in Y.\n",
        "        default_value = self.get_default_value(Y)\n",
        "\n",
        "        # First the two base cases in the recursion: is the training set completely\n",
        "        # homogeneous, or have we reached the maximum depth? Then we need to return a leaf.\n",
        "\n",
        "        # If we have reached the maximum depth, return a leaf with the majority value.\n",
        "        if max_depth == 0:\n",
        "            return DecisionTreeLeaf(default_value)\n",
        "\n",
        "        # If all the instances in the remaining training set have the same output value,\n",
        "        # return a leaf with this value.\n",
        "        if self.is_homogeneous(Y):\n",
        "            return DecisionTreeLeaf(default_value)\n",
        "\n",
        "        # Select the \"most useful\" feature and split threshold. To rank the \"usefulness\" of features,\n",
        "        # we use one of the classification or regression criteria.\n",
        "        # For each feature, we call best_split (defined in a subclass). We then maximize over the features.\n",
        "        n_features = X.shape[1]\n",
        "        _, best_feature, best_threshold = max(self.best_split(X, Y, feature) for feature in range(n_features))\n",
        "\n",
        "        if best_feature is None:\n",
        "            return DecisionTreeLeaf(default_value)\n",
        "\n",
        "        # Split the training set into subgroups, based on whether the selected feature is greater than\n",
        "        # the threshold or not\n",
        "        X_low, X_high, Y_low, Y_high = self.split_by_feature(X, Y, best_feature, best_threshold)\n",
        "\n",
        "        # Build the subtrees using a recursive call. Each subtree is associated\n",
        "        # with a value of the feature.\n",
        "        low_subtree = self.make_tree(X_low, Y_low, max_depth-1)\n",
        "        high_subtree = self.make_tree(X_high, Y_high, max_depth-1)\n",
        "\n",
        "        if low_subtree == high_subtree:\n",
        "            return low_subtree\n",
        "\n",
        "        # Return a decision tree branch containing the result.\n",
        "        return DecisionTreeBranch(best_feature, best_threshold, low_subtree, high_subtree)\n",
        "\n",
        "    # Utility method that splits the data into the \"upper\" and \"lower\" part, based on a feature\n",
        "    # and a threshold.\n",
        "    def split_by_feature(self, X, Y, feature, threshold):\n",
        "        low = X[:,feature] <= threshold\n",
        "        high = ~low\n",
        "        return X[low], X[high], Y[low], Y[high]\n",
        "\n",
        "    # The following three methods need to be implemented by the classification and regression subclasses.\n",
        "\n",
        "    @abstractmethod\n",
        "    def get_default_value(self, Y):\n",
        "        pass\n",
        "\n",
        "    @abstractmethod\n",
        "    def is_homogeneous(self, Y):\n",
        "        pass\n",
        "\n",
        "    @abstractmethod\n",
        "    def best_split(self, X, Y, feature):\n",
        "        pass"
      ]
    },
    {
      "cell_type": "markdown",
      "metadata": {
        "id": "lVdG3qNncrFC"
      },
      "source": [
        "### Criterion Definitions"
      ]
    },
    {
      "cell_type": "code",
      "execution_count": null,
      "metadata": {
        "id": "2jpzVznics2C"
      },
      "outputs": [],
      "source": [
        "def majority_sum_scorer(n_low, low_distr, n_high, high_distr):\n",
        "    maj_sum_low = low_distr.most_common(1)[0][1]\n",
        "    maj_sum_high = high_distr.most_common(1)[0][1]\n",
        "    return maj_sum_low + maj_sum_high\n",
        "\n",
        "def entropy(distr):\n",
        "    n = sum(distr.values())\n",
        "    ps = [n_i/n for n_i in distr.values()]\n",
        "    return -sum(p*np.log2(p) if p > 0 else 0 for p in ps)\n",
        "\n",
        "def info_gain_scorer(n_low, low_distr, n_high, high_distr):\n",
        "    return -(n_low*entropy(low_distr)+n_high*entropy(high_distr))/(n_low+n_high)\n",
        "\n",
        "def gini_impurity(distr):\n",
        "    n = sum(distr.values())\n",
        "    ps = [n_i/n for n_i in distr.values()]\n",
        "    return 1-sum(p**2 for p in ps)\n",
        "\n",
        "def gini_scorer(n_low, low_distr, n_high, high_distr):\n",
        "    return -(n_low*gini_impurity(low_distr)+n_high*gini_impurity(high_distr))/(n_low+n_high)"
      ]
    },
    {
      "cell_type": "markdown",
      "metadata": {
        "id": "7j-gm2jDctof"
      },
      "source": [
        "### Tree Classifier"
      ]
    },
    {
      "cell_type": "code",
      "execution_count": null,
      "metadata": {
        "id": "ZRVYJ9j8cxEo"
      },
      "outputs": [],
      "source": [
        "from collections import Counter\n",
        "\n",
        "class TreeClassifier(DecisionTree, ClassifierMixin):\n",
        "\n",
        "    def __init__(self, max_depth=10, criterion='maj_sum'):\n",
        "        super().__init__(max_depth)\n",
        "        self.criterion = criterion\n",
        "\n",
        "    def fit(self, X, Y):\n",
        "        # For decision tree classifiers, there are some different ways to measure\n",
        "        # the homogeneity of subsets.\n",
        "        if self.criterion == 'maj_sum':\n",
        "            self.criterion_function = majority_sum_scorer\n",
        "        elif self.criterion == 'info_gain':\n",
        "            self.criterion_function = info_gain_scorer\n",
        "        elif self.criterion == 'gini':\n",
        "            self.criterion_function = gini_scorer\n",
        "        else:\n",
        "            raise Exception(f'Unknown criterion: {self.criterion}')\n",
        "        super().fit(X, Y)\n",
        "        self.classes_ = sorted(set(Y))\n",
        "\n",
        "    # Select a default value that is going to be used if we decide to make a leaf.\n",
        "    # We will select the most common value.\n",
        "    def get_default_value(self, Y):\n",
        "        self.class_distribution = Counter(Y)\n",
        "        return self.class_distribution.most_common(1)[0][0]\n",
        "\n",
        "    # Checks whether a set of output values is homogeneous. In the classification case,\n",
        "    # this means that all output values are identical.\n",
        "    # We assume that we called get_default_value just before, so that we can access\n",
        "    # the class_distribution attribute. If the class distribution contains just one item,\n",
        "    # this means that the set is homogeneous.\n",
        "    def is_homogeneous(self, Y):\n",
        "        return len(self.class_distribution) == 1\n",
        "\n",
        "    # Finds the best splitting point for a given feature. We'll keep frequency tables (Counters)\n",
        "    # for the upper and lower parts, and then compute the impurity criterion using these tables.\n",
        "    # In the end, we return a triple consisting of\n",
        "    # - the best score we found, according to the criterion we're using\n",
        "    # - the id of the feature\n",
        "    # - the threshold for the best split\n",
        "    def best_split(self, X, Y, feature):\n",
        "\n",
        "        # Create a list of input-output pairs, where we have sorted\n",
        "        # in ascending order by the input feature we're considering.\n",
        "        sorted_indices = np.argsort(X[:, feature])\n",
        "        X_sorted = list(X[sorted_indices, feature])\n",
        "        Y_sorted = list(Y[sorted_indices])\n",
        "\n",
        "        n = len(Y)\n",
        "\n",
        "        # The frequency tables corresponding to the parts *before and including*\n",
        "        # and *after* the current element.\n",
        "        low_distr = Counter()\n",
        "        high_distr = Counter(Y)\n",
        "\n",
        "        # Keep track of the best result we've seen so far.\n",
        "        max_score = -np.inf\n",
        "        max_i = None\n",
        "\n",
        "        # Go through all the positions (excluding the last position).\n",
        "        for i in range(0, n-1):\n",
        "\n",
        "            # Input and output at the current position.\n",
        "            x_i = X_sorted[i]\n",
        "            y_i = Y_sorted[i]\n",
        "\n",
        "            # Update the frequency tables.\n",
        "            low_distr[y_i] += 1\n",
        "            high_distr[y_i] -= 1\n",
        "\n",
        "            # If the input is equal to the input at the next position, we will\n",
        "            # not consider a split here.\n",
        "            #x_next = XY[i+1][0]\n",
        "            x_next = X_sorted[i+1]\n",
        "            if x_i == x_next:\n",
        "                continue\n",
        "\n",
        "            # Compute the homogeneity criterion for a split at this position.\n",
        "            score = self.criterion_function(i+1, low_distr, n-i-1, high_distr)\n",
        "\n",
        "            # If this is the best split, remember it.\n",
        "            if score > max_score:\n",
        "                max_score = score\n",
        "                max_i = i\n",
        "\n",
        "        # If we didn't find any split (meaning that all inputs are identical), return\n",
        "        # a dummy value.\n",
        "        if max_i is None:\n",
        "            return -np.inf, None, None\n",
        "\n",
        "        # Otherwise, return the best split we found and its score.\n",
        "        split_point = 0.5*(X_sorted[max_i] + X_sorted[max_i+1])\n",
        "        return max_score, feature, split_point"
      ]
    },
    {
      "cell_type": "markdown",
      "metadata": {
        "id": "VEnZMHIwc9zJ"
      },
      "source": [
        "### Testing on Defined Class TreeClassifier"
      ]
    },
    {
      "cell_type": "markdown",
      "metadata": {
        "id": "nPzOrRvedHzA"
      },
      "source": [
        "Similar to above, we seek to tune the hyperparameter `max_depth` to get the best cross-validation performance, and then evaluate the classifier on the test set. We will use the `gini` criterion for homogeneity measurement."
      ]
    },
    {
      "cell_type": "code",
      "execution_count": null,
      "metadata": {
        "colab": {
          "base_uri": "https://localhost:8080/"
        },
        "id": "tun_Qo1fdAC0",
        "outputId": "8287be0d-423b-46ba-d86b-7e56cd54225f"
      },
      "outputs": [
        {
          "name": "stderr",
          "output_type": "stream",
          "text": [
            "/usr/local/lib/python3.11/dist-packages/sklearn/model_selection/_validation.py:528: FitFailedWarning: \n",
            "5 fits failed out of a total of 40.\n",
            "The score on these train-test partitions for these parameters will be set to nan.\n",
            "If these failures are not expected, you can try to debug them by setting error_score='raise'.\n",
            "\n",
            "Below are more details about the failures:\n",
            "--------------------------------------------------------------------------------\n",
            "5 fits failed with the following error:\n",
            "Traceback (most recent call last):\n",
            "  File \"/usr/local/lib/python3.11/dist-packages/sklearn/model_selection/_validation.py\", line 866, in _fit_and_score\n",
            "    estimator.fit(X_train, y_train, **fit_params)\n",
            "  File \"<ipython-input-31-aa1c9057e343>\", line 20, in fit\n",
            "    super().fit(X, Y)\n",
            "  File \"<ipython-input-30-d95c0cf9f34a>\", line 24, in fit\n",
            "    self.root = self.make_tree(X, Y, self.max_depth)\n",
            "                ^^^^^^^^^^^^^^^^^^^^^^^^^^^^^^^^^^^^\n",
            "  File \"<ipython-input-30-d95c0cf9f34a>\", line 77, in make_tree\n",
            "    low_subtree = self.make_tree(X_low, Y_low, max_depth-1)\n",
            "                                               ~~~~~~~~~^~\n",
            "TypeError: unsupported operand type(s) for -: 'NoneType' and 'int'\n",
            "\n",
            "  warnings.warn(some_fits_failed_message, FitFailedWarning)\n",
            "/usr/local/lib/python3.11/dist-packages/sklearn/model_selection/_search.py:1108: UserWarning: One or more of the test scores are non-finite: [0.91235294 0.93176471 0.93294118 0.93117647 0.92882353 0.92470588\n",
            " 0.92470588        nan]\n",
            "  warnings.warn(\n"
          ]
        },
        {
          "name": "stdout",
          "output_type": "stream",
          "text": [
            "Best parameters: {'max_depth': 7}\n",
            "Best CV accuracy: 0.9329411764705882\n"
          ]
        }
      ],
      "source": [
        "param_grid = {\n",
        "    'max_depth': [3, 5, 7, 10, 12, 15, 17, None]\n",
        "} # using grid of reasonable values\n",
        "\n",
        "tcls = TreeClassifier(criterion='gini')\n",
        "grid_search = GridSearchCV(tcls, param_grid, cv=5, scoring='accuracy')\n",
        "grid_search.fit(Xtrain, Ytrain)\n",
        "\n",
        "print(\"Best parameters:\", grid_search.best_params_)\n",
        "print(\"Best CV accuracy:\", grid_search.best_score_)"
      ]
    },
    {
      "cell_type": "markdown",
      "metadata": {
        "id": "jaTiiUipeJeI"
      },
      "source": [
        "From the above, we see that the best value for `max_depth` is 7, with an accuracy of **~93.3%**."
      ]
    },
    {
      "cell_type": "code",
      "execution_count": null,
      "metadata": {
        "colab": {
          "base_uri": "https://localhost:8080/"
        },
        "id": "Tjgwx8_ado-M",
        "outputId": "9cec3231-8593-4942-cc8e-c043b1a15e17"
      },
      "outputs": [
        {
          "name": "stdout",
          "output_type": "stream",
          "text": [
            "0.9131455399061033\n"
          ]
        }
      ],
      "source": [
        "# evaluating on test set with the best max_depth of 7\n",
        "tcls = TreeClassifier(criterion='gini', max_depth=7)\n",
        "tcls.fit(Xtrain, Ytrain)\n",
        "Yguess = tcls.predict(Xtest)\n",
        "\n",
        "print(accuracy_score(Ytest, Yguess))"
      ]
    },
    {
      "cell_type": "markdown",
      "metadata": {
        "id": "u2LY6-SfeSLh"
      },
      "source": [
        "Evaluating on the test set, we obtain an accuracy score of **~91.3%**."
      ]
    },
    {
      "cell_type": "markdown",
      "metadata": {
        "id": "5Vfp2KZnehoE"
      },
      "source": [
        "## Visualising the Tree Classifier"
      ]
    },
    {
      "cell_type": "markdown",
      "metadata": {
        "id": "bGxOwLKTesDK"
      },
      "source": [
        "We will set `max_depth` to a reasonably small value of 3 just for illustration purposes below"
      ]
    },
    {
      "cell_type": "code",
      "execution_count": null,
      "metadata": {
        "colab": {
          "base_uri": "https://localhost:8080/",
          "height": 427
        },
        "id": "3GTjIK4sehIi",
        "outputId": "2da5326b-8ce8-4b12-ae61-0a71f9b061b0"
      },
      "outputs": [
        {
          "data": {
            "image/svg+xml": [
              "<?xml version=\"1.0\" encoding=\"UTF-8\" standalone=\"no\"?>\n",
              "<!DOCTYPE svg PUBLIC \"-//W3C//DTD SVG 1.1//EN\"\n",
              " \"http://www.w3.org/Graphics/SVG/1.1/DTD/svg11.dtd\">\n",
              "<!-- Generated by graphviz version 2.43.0 (0)\n",
              " -->\n",
              "<!-- Title: %3 Pages: 1 -->\n",
              "<svg width=\"580pt\" height=\"305pt\"\n",
              " viewBox=\"0.00 0.00 579.79 305.00\" xmlns=\"http://www.w3.org/2000/svg\" xmlns:xlink=\"http://www.w3.org/1999/xlink\">\n",
              "<g id=\"graph0\" class=\"graph\" transform=\"scale(1 1) rotate(0) translate(4 301)\">\n",
              "<title>%3</title>\n",
              "<polygon fill=\"white\" stroke=\"transparent\" points=\"-4,4 -4,-301 575.79,-301 575.79,4 -4,4\"/>\n",
              "<!-- 0 -->\n",
              "<g id=\"node1\" class=\"node\">\n",
              "<title>0</title>\n",
              "<ellipse fill=\"lightgrey\" stroke=\"black\" cx=\"36.4\" cy=\"-18\" rx=\"36.29\" ry=\"18\"/>\n",
              "<text text-anchor=\"middle\" x=\"36.4\" y=\"-14.3\" font-family=\"Times,serif\" font-size=\"14.00\">normal</text>\n",
              "</g>\n",
              "<!-- 1 -->\n",
              "<g id=\"node2\" class=\"node\">\n",
              "<title>1</title>\n",
              "<ellipse fill=\"lightgrey\" stroke=\"black\" cx=\"127.4\" cy=\"-18\" rx=\"36.29\" ry=\"18\"/>\n",
              "<text text-anchor=\"middle\" x=\"127.4\" y=\"-14.3\" font-family=\"Times,serif\" font-size=\"14.00\">suspect</text>\n",
              "</g>\n",
              "<!-- 2 -->\n",
              "<g id=\"node3\" class=\"node\">\n",
              "<title>2</title>\n",
              "<path fill=\"yellow\" stroke=\"black\" d=\"M164.4,-123C164.4,-123 90.4,-123 90.4,-123 84.4,-123 78.4,-117 78.4,-111 78.4,-111 78.4,-99 78.4,-99 78.4,-93 84.4,-87 90.4,-87 90.4,-87 164.4,-87 164.4,-87 170.4,-87 176.4,-93 176.4,-99 176.4,-99 176.4,-111 176.4,-111 176.4,-117 170.4,-123 164.4,-123\"/>\n",
              "<text text-anchor=\"middle\" x=\"127.4\" y=\"-101.3\" font-family=\"Times,serif\" font-size=\"14.00\">ASTV &gt; 59.5?</text>\n",
              "</g>\n",
              "<!-- 2&#45;&gt;0 -->\n",
              "<g id=\"edge1\" class=\"edge\">\n",
              "<title>2&#45;&gt;0</title>\n",
              "<path fill=\"none\" stroke=\"black\" d=\"M108.98,-86.8C94.92,-73.66 75.43,-55.46 60.18,-41.22\"/>\n",
              "<polygon fill=\"black\" stroke=\"black\" points=\"62.35,-38.45 52.65,-34.18 57.57,-43.56 62.35,-38.45\"/>\n",
              "<text text-anchor=\"middle\" x=\"101.9\" y=\"-57.8\" font-family=\"Times,serif\" font-size=\"14.00\">False</text>\n",
              "</g>\n",
              "<!-- 2&#45;&gt;1 -->\n",
              "<g id=\"edge2\" class=\"edge\">\n",
              "<title>2&#45;&gt;1</title>\n",
              "<path fill=\"none\" stroke=\"black\" d=\"M127.4,-86.8C127.4,-75.16 127.4,-59.55 127.4,-46.24\"/>\n",
              "<polygon fill=\"black\" stroke=\"black\" points=\"130.9,-46.18 127.4,-36.18 123.9,-46.18 130.9,-46.18\"/>\n",
              "<text text-anchor=\"middle\" x=\"140.4\" y=\"-57.8\" font-family=\"Times,serif\" font-size=\"14.00\">True</text>\n",
              "</g>\n",
              "<!-- 3 -->\n",
              "<g id=\"node4\" class=\"node\">\n",
              "<title>3</title>\n",
              "<ellipse fill=\"lightgrey\" stroke=\"black\" cx=\"229.4\" cy=\"-18\" rx=\"48.19\" ry=\"18\"/>\n",
              "<text text-anchor=\"middle\" x=\"229.4\" y=\"-14.3\" font-family=\"Times,serif\" font-size=\"14.00\">pathologic</text>\n",
              "</g>\n",
              "<!-- 4 -->\n",
              "<g id=\"node5\" class=\"node\">\n",
              "<title>4</title>\n",
              "<ellipse fill=\"lightgrey\" stroke=\"black\" cx=\"331.4\" cy=\"-18\" rx=\"36.29\" ry=\"18\"/>\n",
              "<text text-anchor=\"middle\" x=\"331.4\" y=\"-14.3\" font-family=\"Times,serif\" font-size=\"14.00\">normal</text>\n",
              "</g>\n",
              "<!-- 5 -->\n",
              "<g id=\"node6\" class=\"node\">\n",
              "<title>5</title>\n",
              "<path fill=\"yellow\" stroke=\"black\" d=\"M306.4,-123C306.4,-123 256.4,-123 256.4,-123 250.4,-123 244.4,-117 244.4,-111 244.4,-111 244.4,-99 244.4,-99 244.4,-93 250.4,-87 256.4,-87 256.4,-87 306.4,-87 306.4,-87 312.4,-87 318.4,-93 318.4,-99 318.4,-99 318.4,-111 318.4,-111 318.4,-117 312.4,-123 306.4,-123\"/>\n",
              "<text text-anchor=\"middle\" x=\"281.4\" y=\"-101.3\" font-family=\"Times,serif\" font-size=\"14.00\">UC &gt; 3.5?</text>\n",
              "</g>\n",
              "<!-- 5&#45;&gt;3 -->\n",
              "<g id=\"edge3\" class=\"edge\">\n",
              "<title>5&#45;&gt;3</title>\n",
              "<path fill=\"none\" stroke=\"black\" d=\"M270.87,-86.8C263.38,-74.54 253.18,-57.87 244.77,-44.13\"/>\n",
              "<polygon fill=\"black\" stroke=\"black\" points=\"247.75,-42.3 239.55,-35.6 241.78,-45.95 247.75,-42.3\"/>\n",
              "<text text-anchor=\"middle\" x=\"273.9\" y=\"-57.8\" font-family=\"Times,serif\" font-size=\"14.00\">False</text>\n",
              "</g>\n",
              "<!-- 5&#45;&gt;4 -->\n",
              "<g id=\"edge4\" class=\"edge\">\n",
              "<title>5&#45;&gt;4</title>\n",
              "<path fill=\"none\" stroke=\"black\" d=\"M291.52,-86.8C298.66,-74.66 308.34,-58.19 316.38,-44.52\"/>\n",
              "<polygon fill=\"black\" stroke=\"black\" points=\"319.58,-45.99 321.63,-35.6 313.55,-42.44 319.58,-45.99\"/>\n",
              "<text text-anchor=\"middle\" x=\"322.4\" y=\"-57.8\" font-family=\"Times,serif\" font-size=\"14.00\">True</text>\n",
              "</g>\n",
              "<!-- 6 -->\n",
              "<g id=\"node7\" class=\"node\">\n",
              "<title>6</title>\n",
              "<path fill=\"yellow\" stroke=\"black\" d=\"M318.4,-210C318.4,-210 244.4,-210 244.4,-210 238.4,-210 232.4,-204 232.4,-198 232.4,-198 232.4,-186 232.4,-186 232.4,-180 238.4,-174 244.4,-174 244.4,-174 318.4,-174 318.4,-174 324.4,-174 330.4,-180 330.4,-186 330.4,-186 330.4,-198 330.4,-198 330.4,-204 324.4,-210 318.4,-210\"/>\n",
              "<text text-anchor=\"middle\" x=\"281.4\" y=\"-188.3\" font-family=\"Times,serif\" font-size=\"14.00\">ALTV &gt; 68.5?</text>\n",
              "</g>\n",
              "<!-- 6&#45;&gt;2 -->\n",
              "<g id=\"edge5\" class=\"edge\">\n",
              "<title>6&#45;&gt;2</title>\n",
              "<path fill=\"none\" stroke=\"black\" d=\"M250.23,-173.8C226.25,-160.56 192.95,-142.18 167.07,-127.9\"/>\n",
              "<polygon fill=\"black\" stroke=\"black\" points=\"168.7,-124.8 158.25,-123.03 165.32,-130.93 168.7,-124.8\"/>\n",
              "<text text-anchor=\"middle\" x=\"228.9\" y=\"-144.8\" font-family=\"Times,serif\" font-size=\"14.00\">False</text>\n",
              "</g>\n",
              "<!-- 6&#45;&gt;5 -->\n",
              "<g id=\"edge6\" class=\"edge\">\n",
              "<title>6&#45;&gt;5</title>\n",
              "<path fill=\"none\" stroke=\"black\" d=\"M281.4,-173.8C281.4,-162.16 281.4,-146.55 281.4,-133.24\"/>\n",
              "<polygon fill=\"black\" stroke=\"black\" points=\"284.9,-133.18 281.4,-123.18 277.9,-133.18 284.9,-133.18\"/>\n",
              "<text text-anchor=\"middle\" x=\"294.4\" y=\"-144.8\" font-family=\"Times,serif\" font-size=\"14.00\">True</text>\n",
              "</g>\n",
              "<!-- 7 -->\n",
              "<g id=\"node8\" class=\"node\">\n",
              "<title>7</title>\n",
              "<ellipse fill=\"lightgrey\" stroke=\"black\" cx=\"433.4\" cy=\"-18\" rx=\"48.19\" ry=\"18\"/>\n",
              "<text text-anchor=\"middle\" x=\"433.4\" y=\"-14.3\" font-family=\"Times,serif\" font-size=\"14.00\">pathologic</text>\n",
              "</g>\n",
              "<!-- 8 -->\n",
              "<g id=\"node9\" class=\"node\">\n",
              "<title>8</title>\n",
              "<ellipse fill=\"lightgrey\" stroke=\"black\" cx=\"535.4\" cy=\"-18\" rx=\"36.29\" ry=\"18\"/>\n",
              "<text text-anchor=\"middle\" x=\"535.4\" y=\"-14.3\" font-family=\"Times,serif\" font-size=\"14.00\">normal</text>\n",
              "</g>\n",
              "<!-- 9 -->\n",
              "<g id=\"node10\" class=\"node\">\n",
              "<title>9</title>\n",
              "<path fill=\"yellow\" stroke=\"black\" d=\"M468.9,-123C468.9,-123 397.9,-123 397.9,-123 391.9,-123 385.9,-117 385.9,-111 385.9,-111 385.9,-99 385.9,-99 385.9,-93 391.9,-87 397.9,-87 397.9,-87 468.9,-87 468.9,-87 474.9,-87 480.9,-93 480.9,-99 480.9,-99 480.9,-111 480.9,-111 480.9,-117 474.9,-123 468.9,-123\"/>\n",
              "<text text-anchor=\"middle\" x=\"433.4\" y=\"-101.3\" font-family=\"Times,serif\" font-size=\"14.00\">Max &gt; 220.5?</text>\n",
              "</g>\n",
              "<!-- 9&#45;&gt;7 -->\n",
              "<g id=\"edge7\" class=\"edge\">\n",
              "<title>9&#45;&gt;7</title>\n",
              "<path fill=\"none\" stroke=\"black\" d=\"M433.4,-86.8C433.4,-75.16 433.4,-59.55 433.4,-46.24\"/>\n",
              "<polygon fill=\"black\" stroke=\"black\" points=\"436.9,-46.18 433.4,-36.18 429.9,-46.18 436.9,-46.18\"/>\n",
              "<text text-anchor=\"middle\" x=\"447.9\" y=\"-57.8\" font-family=\"Times,serif\" font-size=\"14.00\">False</text>\n",
              "</g>\n",
              "<!-- 9&#45;&gt;8 -->\n",
              "<g id=\"edge8\" class=\"edge\">\n",
              "<title>9&#45;&gt;8</title>\n",
              "<path fill=\"none\" stroke=\"black\" d=\"M454.04,-86.8C470.05,-73.46 492.33,-54.89 509.53,-40.56\"/>\n",
              "<polygon fill=\"black\" stroke=\"black\" points=\"512.07,-42.99 517.51,-33.9 507.59,-37.62 512.07,-42.99\"/>\n",
              "<text text-anchor=\"middle\" x=\"504.4\" y=\"-57.8\" font-family=\"Times,serif\" font-size=\"14.00\">True</text>\n",
              "</g>\n",
              "<!-- 10 -->\n",
              "<g id=\"node11\" class=\"node\">\n",
              "<title>10</title>\n",
              "<ellipse fill=\"lightgrey\" stroke=\"black\" cx=\"535.4\" cy=\"-105\" rx=\"36.29\" ry=\"18\"/>\n",
              "<text text-anchor=\"middle\" x=\"535.4\" y=\"-101.3\" font-family=\"Times,serif\" font-size=\"14.00\">normal</text>\n",
              "</g>\n",
              "<!-- 11 -->\n",
              "<g id=\"node12\" class=\"node\">\n",
              "<title>11</title>\n",
              "<path fill=\"yellow\" stroke=\"black\" d=\"M471.9,-210C471.9,-210 394.9,-210 394.9,-210 388.9,-210 382.9,-204 382.9,-198 382.9,-198 382.9,-186 382.9,-186 382.9,-180 388.9,-174 394.9,-174 394.9,-174 471.9,-174 471.9,-174 477.9,-174 483.9,-180 483.9,-186 483.9,-186 483.9,-198 483.9,-198 483.9,-204 477.9,-210 471.9,-210\"/>\n",
              "<text text-anchor=\"middle\" x=\"433.4\" y=\"-188.3\" font-family=\"Times,serif\" font-size=\"14.00\">Mean &gt; 107.5?</text>\n",
              "</g>\n",
              "<!-- 11&#45;&gt;9 -->\n",
              "<g id=\"edge9\" class=\"edge\">\n",
              "<title>11&#45;&gt;9</title>\n",
              "<path fill=\"none\" stroke=\"black\" d=\"M433.4,-173.8C433.4,-162.16 433.4,-146.55 433.4,-133.24\"/>\n",
              "<polygon fill=\"black\" stroke=\"black\" points=\"436.9,-133.18 433.4,-123.18 429.9,-133.18 436.9,-133.18\"/>\n",
              "<text text-anchor=\"middle\" x=\"447.9\" y=\"-144.8\" font-family=\"Times,serif\" font-size=\"14.00\">False</text>\n",
              "</g>\n",
              "<!-- 11&#45;&gt;10 -->\n",
              "<g id=\"edge10\" class=\"edge\">\n",
              "<title>11&#45;&gt;10</title>\n",
              "<path fill=\"none\" stroke=\"black\" d=\"M454.04,-173.8C470.05,-160.46 492.33,-141.89 509.53,-127.56\"/>\n",
              "<polygon fill=\"black\" stroke=\"black\" points=\"512.07,-129.99 517.51,-120.9 507.59,-124.62 512.07,-129.99\"/>\n",
              "<text text-anchor=\"middle\" x=\"504.4\" y=\"-144.8\" font-family=\"Times,serif\" font-size=\"14.00\">True</text>\n",
              "</g>\n",
              "<!-- 12 -->\n",
              "<g id=\"node13\" class=\"node\">\n",
              "<title>12</title>\n",
              "<path fill=\"yellow\" stroke=\"black\" d=\"M378.9,-297C378.9,-297 301.9,-297 301.9,-297 295.9,-297 289.9,-291 289.9,-285 289.9,-285 289.9,-273 289.9,-273 289.9,-267 295.9,-261 301.9,-261 301.9,-261 378.9,-261 378.9,-261 384.9,-261 390.9,-267 390.9,-273 390.9,-273 390.9,-285 390.9,-285 390.9,-291 384.9,-297 378.9,-297\"/>\n",
              "<text text-anchor=\"middle\" x=\"340.4\" y=\"-275.3\" font-family=\"Times,serif\" font-size=\"14.00\">MSTV &gt; 0.55?</text>\n",
              "</g>\n",
              "<!-- 12&#45;&gt;6 -->\n",
              "<g id=\"edge11\" class=\"edge\">\n",
              "<title>12&#45;&gt;6</title>\n",
              "<path fill=\"none\" stroke=\"black\" d=\"M328.46,-260.8C320.06,-248.7 308.68,-232.3 299.21,-218.67\"/>\n",
              "<polygon fill=\"black\" stroke=\"black\" points=\"301.9,-216.39 293.32,-210.18 296.15,-220.39 301.9,-216.39\"/>\n",
              "<text text-anchor=\"middle\" x=\"329.9\" y=\"-231.8\" font-family=\"Times,serif\" font-size=\"14.00\">False</text>\n",
              "</g>\n",
              "<!-- 12&#45;&gt;11 -->\n",
              "<g id=\"edge12\" class=\"edge\">\n",
              "<title>12&#45;&gt;11</title>\n",
              "<path fill=\"none\" stroke=\"black\" d=\"M359.22,-260.8C372.96,-248.24 391.77,-231.05 407.01,-217.12\"/>\n",
              "<polygon fill=\"black\" stroke=\"black\" points=\"409.58,-219.51 414.6,-210.18 404.86,-214.34 409.58,-219.51\"/>\n",
              "<text text-anchor=\"middle\" x=\"406.4\" y=\"-231.8\" font-family=\"Times,serif\" font-size=\"14.00\">True</text>\n",
              "</g>\n",
              "</g>\n",
              "</svg>\n"
            ],
            "text/plain": [
              "<graphviz.graphs.Digraph at 0x7ce4744c24d0>"
            ]
          },
          "execution_count": 40,
          "metadata": {},
          "output_type": "execute_result"
        }
      ],
      "source": [
        "tcls_illus = TreeClassifier(criterion='gini', max_depth=3)\n",
        "tcls_illus.fit(Xtrain, Ytrain)\n",
        "tcls_illus.draw_tree()"
      ]
    },
    {
      "cell_type": "markdown",
      "metadata": {
        "id": "DGcupcgBfjQ-"
      },
      "source": [
        "# Task 3: A regression example: predicting property prices"
      ]
    },
    {
      "cell_type": "markdown",
      "metadata": {
        "id": "wFXbVlctflaR"
      },
      "source": [
        "We will be using the given dataset about property prices in parts of Sweden, from Hemnet, and the code snippet given to load the data, find a suitable model using cross-validation over the training set, and finally evaluate on the held-out test data.\n",
        "\n",
        "The goal is to **predict the price of an apartment**, given numerical information such as the number of rooms, the size of the apartment in square meters, the floor, etc."
      ]
    },
    {
      "cell_type": "code",
      "execution_count": null,
      "metadata": {
        "colab": {
          "base_uri": "https://localhost:8080/",
          "height": 206
        },
        "id": "j6ORsJpOfxZX",
        "outputId": "08346bc0-d020-45fc-df22-485c55e6566b"
      },
      "outputs": [
        {
          "data": {
            "application/vnd.google.colaboratory.intrinsic+json": {
              "summary": "{\n  \"name\": \"Xtrain\",\n  \"rows\": 8851,\n  \"fields\": [\n    {\n      \"column\": \"year\",\n      \"properties\": {\n        \"dtype\": \"number\",\n        \"std\": 0.5472023454399702,\n        \"min\": 2021.0,\n        \"max\": 2024.0,\n        \"num_unique_values\": 4,\n        \"samples\": [\n          2022.0,\n          2021.0,\n          2024.0\n        ],\n        \"semantic_type\": \"\",\n        \"description\": \"\"\n      }\n    },\n    {\n      \"column\": \"Num of Room\",\n      \"properties\": {\n        \"dtype\": \"number\",\n        \"std\": 0.974153515582611,\n        \"min\": 1.0,\n        \"max\": 8.0,\n        \"num_unique_values\": 14,\n        \"samples\": [\n          6.0,\n          7.0,\n          2.0\n        ],\n        \"semantic_type\": \"\",\n        \"description\": \"\"\n      }\n    },\n    {\n      \"column\": \"Living Area (m\\u00b2)\",\n      \"properties\": {\n        \"dtype\": \"number\",\n        \"std\": 22.918056222229648,\n        \"min\": 14.2,\n        \"max\": 328.0,\n        \"num_unique_values\": 681,\n        \"samples\": [\n          73.2,\n          86.7,\n          111.0\n        ],\n        \"semantic_type\": \"\",\n        \"description\": \"\"\n      }\n    },\n    {\n      \"column\": \"Balcony\",\n      \"properties\": {\n        \"dtype\": \"number\",\n        \"std\": 0,\n        \"min\": 0,\n        \"max\": 1,\n        \"num_unique_values\": 2,\n        \"samples\": [\n          0,\n          1\n        ],\n        \"semantic_type\": \"\",\n        \"description\": \"\"\n      }\n    },\n    {\n      \"column\": \"Patio\",\n      \"properties\": {\n        \"dtype\": \"number\",\n        \"std\": 0,\n        \"min\": 0,\n        \"max\": 1,\n        \"num_unique_values\": 2,\n        \"samples\": [\n          1,\n          0\n        ],\n        \"semantic_type\": \"\",\n        \"description\": \"\"\n      }\n    },\n    {\n      \"column\": \"Current Floor\",\n      \"properties\": {\n        \"dtype\": \"number\",\n        \"std\": 2.246149270214353,\n        \"min\": -3.0,\n        \"max\": 61.0,\n        \"num_unique_values\": 38,\n        \"samples\": [\n          4.5,\n          60.0\n        ],\n        \"semantic_type\": \"\",\n        \"description\": \"\"\n      }\n    },\n    {\n      \"column\": \"Total Floor\",\n      \"properties\": {\n        \"dtype\": \"number\",\n        \"std\": 3.546343752461449,\n        \"min\": 1.0,\n        \"max\": 73.0,\n        \"num_unique_values\": 24,\n        \"samples\": [\n          12.0,\n          11.0\n        ],\n        \"semantic_type\": \"\",\n        \"description\": \"\"\n      }\n    },\n    {\n      \"column\": \"Lift\",\n      \"properties\": {\n        \"dtype\": \"number\",\n        \"std\": 0,\n        \"min\": 0,\n        \"max\": 1,\n        \"num_unique_values\": 2,\n        \"samples\": [\n          0,\n          1\n        ],\n        \"semantic_type\": \"\",\n        \"description\": \"\"\n      }\n    },\n    {\n      \"column\": \"Built Year\",\n      \"properties\": {\n        \"dtype\": \"number\",\n        \"std\": 33.763404211270895,\n        \"min\": 1068.0,\n        \"max\": 2024.0,\n        \"num_unique_values\": 161,\n        \"samples\": [\n          1860.0,\n          1913.0\n        ],\n        \"semantic_type\": \"\",\n        \"description\": \"\"\n      }\n    },\n    {\n      \"column\": \"Fee (kr/month)\",\n      \"properties\": {\n        \"dtype\": \"number\",\n        \"std\": 298.8451889686313,\n        \"min\": 0.0,\n        \"max\": 954.0,\n        \"num_unique_values\": 12,\n        \"samples\": [\n          800.0,\n          858.0\n        ],\n        \"semantic_type\": \"\",\n        \"description\": \"\"\n      }\n    },\n    {\n      \"column\": \"Operating Fee (kr/year)\",\n      \"properties\": {\n        \"dtype\": \"number\",\n        \"std\": 3820.3773172420024,\n        \"min\": 0.0,\n        \"max\": 39977.0,\n        \"num_unique_values\": 2347,\n        \"samples\": [\n          8276.0,\n          4369.0\n        ],\n        \"semantic_type\": \"\",\n        \"description\": \"\"\n      }\n    }\n  ]\n}",
              "type": "dataframe",
              "variable_name": "Xtrain"
            },
            "text/html": [
              "\n",
              "  <div id=\"df-74f23a1f-740f-4f63-8216-9b67841dc5cd\" class=\"colab-df-container\">\n",
              "    <div>\n",
              "<style scoped>\n",
              "    .dataframe tbody tr th:only-of-type {\n",
              "        vertical-align: middle;\n",
              "    }\n",
              "\n",
              "    .dataframe tbody tr th {\n",
              "        vertical-align: top;\n",
              "    }\n",
              "\n",
              "    .dataframe thead th {\n",
              "        text-align: right;\n",
              "    }\n",
              "</style>\n",
              "<table border=\"1\" class=\"dataframe\">\n",
              "  <thead>\n",
              "    <tr style=\"text-align: right;\">\n",
              "      <th></th>\n",
              "      <th>year</th>\n",
              "      <th>Num of Room</th>\n",
              "      <th>Living Area (m²)</th>\n",
              "      <th>Balcony</th>\n",
              "      <th>Patio</th>\n",
              "      <th>Current Floor</th>\n",
              "      <th>Total Floor</th>\n",
              "      <th>Lift</th>\n",
              "      <th>Built Year</th>\n",
              "      <th>Fee (kr/month)</th>\n",
              "      <th>Operating Fee (kr/year)</th>\n",
              "    </tr>\n",
              "  </thead>\n",
              "  <tbody>\n",
              "    <tr>\n",
              "      <th>29679</th>\n",
              "      <td>2024.0</td>\n",
              "      <td>2.0</td>\n",
              "      <td>65.0</td>\n",
              "      <td>1</td>\n",
              "      <td>0</td>\n",
              "      <td>5.0</td>\n",
              "      <td>8.0</td>\n",
              "      <td>1</td>\n",
              "      <td>1992.0</td>\n",
              "      <td>NaN</td>\n",
              "      <td>3500.0</td>\n",
              "    </tr>\n",
              "    <tr>\n",
              "      <th>3610</th>\n",
              "      <td>2024.0</td>\n",
              "      <td>3.0</td>\n",
              "      <td>73.5</td>\n",
              "      <td>1</td>\n",
              "      <td>0</td>\n",
              "      <td>2.0</td>\n",
              "      <td>3.0</td>\n",
              "      <td>1</td>\n",
              "      <td>1992.0</td>\n",
              "      <td>NaN</td>\n",
              "      <td>6240.0</td>\n",
              "    </tr>\n",
              "    <tr>\n",
              "      <th>17000</th>\n",
              "      <td>2024.0</td>\n",
              "      <td>2.0</td>\n",
              "      <td>42.5</td>\n",
              "      <td>1</td>\n",
              "      <td>0</td>\n",
              "      <td>3.0</td>\n",
              "      <td>4.0</td>\n",
              "      <td>0</td>\n",
              "      <td>1937.0</td>\n",
              "      <td>NaN</td>\n",
              "      <td>4200.0</td>\n",
              "    </tr>\n",
              "    <tr>\n",
              "      <th>25221</th>\n",
              "      <td>2024.0</td>\n",
              "      <td>3.0</td>\n",
              "      <td>84.0</td>\n",
              "      <td>1</td>\n",
              "      <td>0</td>\n",
              "      <td>2.0</td>\n",
              "      <td>2.0</td>\n",
              "      <td>0</td>\n",
              "      <td>1972.0</td>\n",
              "      <td>NaN</td>\n",
              "      <td>6739.0</td>\n",
              "    </tr>\n",
              "    <tr>\n",
              "      <th>3248</th>\n",
              "      <td>2024.0</td>\n",
              "      <td>2.0</td>\n",
              "      <td>63.0</td>\n",
              "      <td>1</td>\n",
              "      <td>0</td>\n",
              "      <td>1.0</td>\n",
              "      <td>3.0</td>\n",
              "      <td>0</td>\n",
              "      <td>1957.0</td>\n",
              "      <td>NaN</td>\n",
              "      <td>6360.0</td>\n",
              "    </tr>\n",
              "  </tbody>\n",
              "</table>\n",
              "</div>\n",
              "    <div class=\"colab-df-buttons\">\n",
              "\n",
              "  <div class=\"colab-df-container\">\n",
              "    <button class=\"colab-df-convert\" onclick=\"convertToInteractive('df-74f23a1f-740f-4f63-8216-9b67841dc5cd')\"\n",
              "            title=\"Convert this dataframe to an interactive table.\"\n",
              "            style=\"display:none;\">\n",
              "\n",
              "  <svg xmlns=\"http://www.w3.org/2000/svg\" height=\"24px\" viewBox=\"0 -960 960 960\">\n",
              "    <path d=\"M120-120v-720h720v720H120Zm60-500h600v-160H180v160Zm220 220h160v-160H400v160Zm0 220h160v-160H400v160ZM180-400h160v-160H180v160Zm440 0h160v-160H620v160ZM180-180h160v-160H180v160Zm440 0h160v-160H620v160Z\"/>\n",
              "  </svg>\n",
              "    </button>\n",
              "\n",
              "  <style>\n",
              "    .colab-df-container {\n",
              "      display:flex;\n",
              "      gap: 12px;\n",
              "    }\n",
              "\n",
              "    .colab-df-convert {\n",
              "      background-color: #E8F0FE;\n",
              "      border: none;\n",
              "      border-radius: 50%;\n",
              "      cursor: pointer;\n",
              "      display: none;\n",
              "      fill: #1967D2;\n",
              "      height: 32px;\n",
              "      padding: 0 0 0 0;\n",
              "      width: 32px;\n",
              "    }\n",
              "\n",
              "    .colab-df-convert:hover {\n",
              "      background-color: #E2EBFA;\n",
              "      box-shadow: 0px 1px 2px rgba(60, 64, 67, 0.3), 0px 1px 3px 1px rgba(60, 64, 67, 0.15);\n",
              "      fill: #174EA6;\n",
              "    }\n",
              "\n",
              "    .colab-df-buttons div {\n",
              "      margin-bottom: 4px;\n",
              "    }\n",
              "\n",
              "    [theme=dark] .colab-df-convert {\n",
              "      background-color: #3B4455;\n",
              "      fill: #D2E3FC;\n",
              "    }\n",
              "\n",
              "    [theme=dark] .colab-df-convert:hover {\n",
              "      background-color: #434B5C;\n",
              "      box-shadow: 0px 1px 3px 1px rgba(0, 0, 0, 0.15);\n",
              "      filter: drop-shadow(0px 1px 2px rgba(0, 0, 0, 0.3));\n",
              "      fill: #FFFFFF;\n",
              "    }\n",
              "  </style>\n",
              "\n",
              "    <script>\n",
              "      const buttonEl =\n",
              "        document.querySelector('#df-74f23a1f-740f-4f63-8216-9b67841dc5cd button.colab-df-convert');\n",
              "      buttonEl.style.display =\n",
              "        google.colab.kernel.accessAllowed ? 'block' : 'none';\n",
              "\n",
              "      async function convertToInteractive(key) {\n",
              "        const element = document.querySelector('#df-74f23a1f-740f-4f63-8216-9b67841dc5cd');\n",
              "        const dataTable =\n",
              "          await google.colab.kernel.invokeFunction('convertToInteractive',\n",
              "                                                    [key], {});\n",
              "        if (!dataTable) return;\n",
              "\n",
              "        const docLinkHtml = 'Like what you see? Visit the ' +\n",
              "          '<a target=\"_blank\" href=https://colab.research.google.com/notebooks/data_table.ipynb>data table notebook</a>'\n",
              "          + ' to learn more about interactive tables.';\n",
              "        element.innerHTML = '';\n",
              "        dataTable['output_type'] = 'display_data';\n",
              "        await google.colab.output.renderOutput(dataTable, element);\n",
              "        const docLink = document.createElement('div');\n",
              "        docLink.innerHTML = docLinkHtml;\n",
              "        element.appendChild(docLink);\n",
              "      }\n",
              "    </script>\n",
              "  </div>\n",
              "\n",
              "\n",
              "<div id=\"df-e6505478-adef-4c5e-9a29-2ae0082b46db\">\n",
              "  <button class=\"colab-df-quickchart\" onclick=\"quickchart('df-e6505478-adef-4c5e-9a29-2ae0082b46db')\"\n",
              "            title=\"Suggest charts\"\n",
              "            style=\"display:none;\">\n",
              "\n",
              "<svg xmlns=\"http://www.w3.org/2000/svg\" height=\"24px\"viewBox=\"0 0 24 24\"\n",
              "     width=\"24px\">\n",
              "    <g>\n",
              "        <path d=\"M19 3H5c-1.1 0-2 .9-2 2v14c0 1.1.9 2 2 2h14c1.1 0 2-.9 2-2V5c0-1.1-.9-2-2-2zM9 17H7v-7h2v7zm4 0h-2V7h2v10zm4 0h-2v-4h2v4z\"/>\n",
              "    </g>\n",
              "</svg>\n",
              "  </button>\n",
              "\n",
              "<style>\n",
              "  .colab-df-quickchart {\n",
              "      --bg-color: #E8F0FE;\n",
              "      --fill-color: #1967D2;\n",
              "      --hover-bg-color: #E2EBFA;\n",
              "      --hover-fill-color: #174EA6;\n",
              "      --disabled-fill-color: #AAA;\n",
              "      --disabled-bg-color: #DDD;\n",
              "  }\n",
              "\n",
              "  [theme=dark] .colab-df-quickchart {\n",
              "      --bg-color: #3B4455;\n",
              "      --fill-color: #D2E3FC;\n",
              "      --hover-bg-color: #434B5C;\n",
              "      --hover-fill-color: #FFFFFF;\n",
              "      --disabled-bg-color: #3B4455;\n",
              "      --disabled-fill-color: #666;\n",
              "  }\n",
              "\n",
              "  .colab-df-quickchart {\n",
              "    background-color: var(--bg-color);\n",
              "    border: none;\n",
              "    border-radius: 50%;\n",
              "    cursor: pointer;\n",
              "    display: none;\n",
              "    fill: var(--fill-color);\n",
              "    height: 32px;\n",
              "    padding: 0;\n",
              "    width: 32px;\n",
              "  }\n",
              "\n",
              "  .colab-df-quickchart:hover {\n",
              "    background-color: var(--hover-bg-color);\n",
              "    box-shadow: 0 1px 2px rgba(60, 64, 67, 0.3), 0 1px 3px 1px rgba(60, 64, 67, 0.15);\n",
              "    fill: var(--button-hover-fill-color);\n",
              "  }\n",
              "\n",
              "  .colab-df-quickchart-complete:disabled,\n",
              "  .colab-df-quickchart-complete:disabled:hover {\n",
              "    background-color: var(--disabled-bg-color);\n",
              "    fill: var(--disabled-fill-color);\n",
              "    box-shadow: none;\n",
              "  }\n",
              "\n",
              "  .colab-df-spinner {\n",
              "    border: 2px solid var(--fill-color);\n",
              "    border-color: transparent;\n",
              "    border-bottom-color: var(--fill-color);\n",
              "    animation:\n",
              "      spin 1s steps(1) infinite;\n",
              "  }\n",
              "\n",
              "  @keyframes spin {\n",
              "    0% {\n",
              "      border-color: transparent;\n",
              "      border-bottom-color: var(--fill-color);\n",
              "      border-left-color: var(--fill-color);\n",
              "    }\n",
              "    20% {\n",
              "      border-color: transparent;\n",
              "      border-left-color: var(--fill-color);\n",
              "      border-top-color: var(--fill-color);\n",
              "    }\n",
              "    30% {\n",
              "      border-color: transparent;\n",
              "      border-left-color: var(--fill-color);\n",
              "      border-top-color: var(--fill-color);\n",
              "      border-right-color: var(--fill-color);\n",
              "    }\n",
              "    40% {\n",
              "      border-color: transparent;\n",
              "      border-right-color: var(--fill-color);\n",
              "      border-top-color: var(--fill-color);\n",
              "    }\n",
              "    60% {\n",
              "      border-color: transparent;\n",
              "      border-right-color: var(--fill-color);\n",
              "    }\n",
              "    80% {\n",
              "      border-color: transparent;\n",
              "      border-right-color: var(--fill-color);\n",
              "      border-bottom-color: var(--fill-color);\n",
              "    }\n",
              "    90% {\n",
              "      border-color: transparent;\n",
              "      border-bottom-color: var(--fill-color);\n",
              "    }\n",
              "  }\n",
              "</style>\n",
              "\n",
              "  <script>\n",
              "    async function quickchart(key) {\n",
              "      const quickchartButtonEl =\n",
              "        document.querySelector('#' + key + ' button');\n",
              "      quickchartButtonEl.disabled = true;  // To prevent multiple clicks.\n",
              "      quickchartButtonEl.classList.add('colab-df-spinner');\n",
              "      try {\n",
              "        const charts = await google.colab.kernel.invokeFunction(\n",
              "            'suggestCharts', [key], {});\n",
              "      } catch (error) {\n",
              "        console.error('Error during call to suggestCharts:', error);\n",
              "      }\n",
              "      quickchartButtonEl.classList.remove('colab-df-spinner');\n",
              "      quickchartButtonEl.classList.add('colab-df-quickchart-complete');\n",
              "    }\n",
              "    (() => {\n",
              "      let quickchartButtonEl =\n",
              "        document.querySelector('#df-e6505478-adef-4c5e-9a29-2ae0082b46db button');\n",
              "      quickchartButtonEl.style.display =\n",
              "        google.colab.kernel.accessAllowed ? 'block' : 'none';\n",
              "    })();\n",
              "  </script>\n",
              "</div>\n",
              "\n",
              "    </div>\n",
              "  </div>\n"
            ],
            "text/plain": [
              "         year  Num of Room  Living Area (m²)  Balcony  Patio  Current Floor  \\\n",
              "29679  2024.0          2.0              65.0        1      0            5.0   \n",
              "3610   2024.0          3.0              73.5        1      0            2.0   \n",
              "17000  2024.0          2.0              42.5        1      0            3.0   \n",
              "25221  2024.0          3.0              84.0        1      0            2.0   \n",
              "3248   2024.0          2.0              63.0        1      0            1.0   \n",
              "\n",
              "       Total Floor  Lift  Built Year  Fee (kr/month)  Operating Fee (kr/year)  \n",
              "29679          8.0     1      1992.0             NaN                   3500.0  \n",
              "3610           3.0     1      1992.0             NaN                   6240.0  \n",
              "17000          4.0     0      1937.0             NaN                   4200.0  \n",
              "25221          2.0     0      1972.0             NaN                   6739.0  \n",
              "3248           3.0     0      1957.0             NaN                   6360.0  "
            ]
          },
          "execution_count": 62,
          "metadata": {},
          "output_type": "execute_result"
        }
      ],
      "source": [
        "import pandas as pd\n",
        "import numpy as np\n",
        "from sklearn.model_selection import train_test_split\n",
        "\n",
        "# Read the Excel file using Pandas.\n",
        "alldata = pd.read_excel('Hemnet_data.xlsx')\n",
        "\n",
        "# # Convert the timestamp string to an integer representing the year.\n",
        "alldata['year'] = pd.DatetimeIndex(alldata['Sold Date']).year\n",
        "\n",
        "# Convert 'yes' to 1 and 'no' to 0\n",
        "alldata['Balcony'] = alldata['Balcony'].map({'Yes': 1, 'No': 0})\n",
        "alldata['Patio'] = alldata['Patio'].map({'Yes': 1, 'No': 0})\n",
        "alldata['Lift'] = alldata['Lift'].map({'Yes': 1, 'No': 0})\n",
        "\n",
        "# Select the 12 input columns and the output column.\n",
        "selected_columns = ['Final Price (kr)', 'year',  'Num of Room', 'Living Area (m²)', 'Balcony', 'Patio','Current Floor', 'Total Floor', 'Lift', 'Built Year', 'Fee (kr/month)', 'Operating Fee (kr/year)']\n",
        "alldata = alldata[selected_columns]\n",
        "alldata = alldata.dropna()\n",
        "\n",
        "# we have to somehow manually handle the 'kr' currency symbol in the data as it is messing up the regressor input for Xtrain\n",
        "for col in ['Fee (kr/month)', 'Operating Fee (kr/year)']:\n",
        "    if alldata[col].dtype == 'object':  # check if the column is object type (string)\n",
        "        alldata[col] = alldata[col].str.replace('kr', '', regex=False).astype(float)\n",
        "\n",
        "# Shuffle.\n",
        "alldata_shuffled = alldata.sample(frac=1.0, random_state=0)\n",
        "\n",
        "# Separate the input and output columns.\n",
        "X = alldata_shuffled.drop('Final Price (kr)', axis=1)\n",
        "# For the output, we'll use the log of the sales price.\n",
        "Y = alldata_shuffled['Final Price (kr)'].apply(np.log)\n",
        "\n",
        "# Split into training and test sets.\n",
        "Xtrain, Xtest, Ytrain, Ytest = train_test_split(X, Y, test_size=0.2, random_state=0)\n",
        "\n",
        "Xtrain.head()"
      ]
    },
    {
      "cell_type": "markdown",
      "metadata": {
        "id": "QaRFyCh1gsiZ"
      },
      "source": [
        "## Training & Evaluating a Baseline Dummy Regressor"
      ]
    },
    {
      "cell_type": "code",
      "execution_count": null,
      "metadata": {
        "colab": {
          "base_uri": "https://localhost:8080/"
        },
        "id": "YIJFVQqNgua7",
        "outputId": "e53b2794-a91b-45de-a981-b17723a09b61"
      },
      "outputs": [
        {
          "data": {
            "text/plain": [
              "{'fit_time': array([0.00352931, 0.004318  , 0.00244236, 0.00234818, 0.00236273]),\n",
              " 'score_time': array([0.00138593, 0.00127649, 0.00119019, 0.0011549 , 0.00113559]),\n",
              " 'test_score': array([-0.35548711, -0.35827597, -0.31759722, -0.34236524, -0.35596055])}"
            ]
          },
          "execution_count": 63,
          "metadata": {},
          "output_type": "execute_result"
        }
      ],
      "source": [
        "from sklearn.dummy import DummyRegressor\n",
        "from sklearn.model_selection import cross_validate\n",
        "m1 = DummyRegressor()\n",
        "cross_validate(m1, Xtrain, Ytrain, scoring='neg_mean_squared_error')"
      ]
    },
    {
      "cell_type": "markdown",
      "metadata": {
        "id": "RsW7gXfthBM9"
      },
      "source": [
        "Again, we seek to aggregate the test scores and obtain a reference value for the negative mean squared error to evaluate the subsequent regressors. We note that the `cross_validate` function returns the negative mean squared error here due to scikit-learn's convention of maximising score, and a lower MSE value is better.\n",
        "\n",
        "To obtain an aggregate value, we take the mean of the `test_score` array multiplied by `-1` to convert it back into MSE. This gives the average MSE across all 5 folds. We also want to calculate the **standard deviation** of the MSEs which would show the variability in performance across folds, which is useful for assessing model consistency."
      ]
    },
    {
      "cell_type": "code",
      "execution_count": null,
      "metadata": {
        "colab": {
          "base_uri": "https://localhost:8080/"
        },
        "id": "9x1O6RX5jJhD",
        "outputId": "fadfbd97-fa06-4fbd-8594-b0fc5d12c9aa"
      },
      "outputs": [
        {
          "name": "stdout",
          "output_type": "stream",
          "text": [
            "Baseline MSE: 0.346 ± 0.015\n"
          ]
        }
      ],
      "source": [
        "mean_mse = np.mean(-cross_validate(m1, Xtrain, Ytrain, scoring='neg_mean_squared_error')['test_score'])\n",
        "\n",
        "std_mse = np.std(-cross_validate(m1, Xtrain, Ytrain, scoring='neg_mean_squared_error')['test_score'])\n",
        "\n",
        "print(f\"Baseline MSE: {mean_mse:.3f} ± {std_mse:.3f}\")"
      ]
    },
    {
      "cell_type": "markdown",
      "metadata": {
        "id": "htmEi0t7jeBY"
      },
      "source": [
        "We see that we now have a baseline MSE value of 0.346 and a standard deviation of 0.015, meaning that the below models trained should theoretically achieve a **lower** MSE value than this baseline."
      ]
    },
    {
      "cell_type": "markdown",
      "metadata": {
        "id": "Te0r4qC_khfc"
      },
      "source": [
        "## Training Better Regressors"
      ]
    },
    {
      "cell_type": "markdown",
      "metadata": {
        "id": "xQQK9Q7jkvdk"
      },
      "source": [
        "Similar to the previous task, we will be training on the three following regressor models:\n",
        "\n",
        "1. DecisionTreeRegressor\n",
        "2. RandomForestRegressor\n",
        "3. GradientBoostingRegressor\n",
        "\n",
        "and performing hyperparameter tuning on each one of them to find the optimal parameters."
      ]
    },
    {
      "cell_type": "markdown",
      "metadata": {
        "id": "gySH2GEBlEl5"
      },
      "source": [
        "To avoid repetition again for the training of all 3 models, we will use a helper function to evaluate the models. This function performs `GridSearchCV` and returns the best model class, the best MSE value, the parameters used for that model, and the final MSE of the test set evaluation."
      ]
    },
    {
      "cell_type": "code",
      "execution_count": null,
      "metadata": {
        "id": "ufh-mepejnqZ"
      },
      "outputs": [],
      "source": [
        "from sklearn.metrics import mean_squared_error\n",
        "\n",
        "def evaluate_model(model, param_grid, Xtrain, Ytrain, Xtest, Ytest):\n",
        "    grid_search = GridSearchCV(model, param_grid,\n",
        "                              cv=5,\n",
        "                              scoring='neg_mean_squared_error',\n",
        "                              n_jobs=-1) # for parallelisation i think, using all CPU cores for faster eval\n",
        "    grid_search.fit(Xtrain, Ytrain)\n",
        "\n",
        "    best_model = grid_search.best_estimator_\n",
        "    best_mse = -grid_search.best_score_  # convert back to positive MSE\n",
        "    best_params = grid_search.best_params_\n",
        "\n",
        "    y_pred = best_model.predict(Xtest)\n",
        "    test_mse = mean_squared_error(Ytest, y_pred)\n",
        "\n",
        "    return best_params, best_mse, test_mse"
      ]
    },
    {
      "cell_type": "markdown",
      "metadata": {
        "id": "jAuiPKPBmlRf"
      },
      "source": [
        "### Gradient Boosting Regressor"
      ]
    },
    {
      "cell_type": "code",
      "execution_count": null,
      "metadata": {
        "colab": {
          "base_uri": "https://localhost:8080/"
        },
        "id": "RV-RLMQ3mQtN",
        "outputId": "ae84af24-be23-41bc-f56f-78c5a5d3ed6d"
      },
      "outputs": [
        {
          "name": "stdout",
          "output_type": "stream",
          "text": [
            "Gradient Boosting Results:\n",
            "Best Parameters: {'gradientboostingregressor__learning_rate': 0.05, 'gradientboostingregressor__max_depth': 5, 'gradientboostingregressor__n_estimators': 200, 'gradientboostingregressor__subsample': 0.8}\n",
            "CV MSE: 0.1417\n",
            "Test RMSE: 0.1417\n",
            "\n"
          ]
        }
      ],
      "source": [
        "from sklearn.ensemble import GradientBoostingRegressor\n",
        "from sklearn.impute import SimpleImputer\n",
        "from sklearn.pipeline import make_pipeline\n",
        "\n",
        "gb_param_grid = {\n",
        "    'gradientboostingregressor__n_estimators': [100, 200], # change variable names to avoid formatting error for pipeline\n",
        "    'gradientboostingregressor__learning_rate': [0.05, 0.1],\n",
        "    'gradientboostingregressor__max_depth': [3, 5],\n",
        "    'gradientboostingregressor__subsample': [0.8, 1.0]\n",
        "} # using some reasonable grid values\n",
        "\n",
        "#  pipeline with mean imputation to fix NaN error as GBR does not natively support it\n",
        "pipeline = make_pipeline(\n",
        "    SimpleImputer(strategy='mean'),\n",
        "    GradientBoostingRegressor(random_state=69)\n",
        ")\n",
        "\n",
        "gb_params, gb_mse, gb_mse = evaluate_model(\n",
        "    pipeline,\n",
        "    gb_param_grid,\n",
        "    Xtrain, Ytrain,\n",
        "    Xtest, Ytest\n",
        ")\n",
        "\n",
        "print(\"Gradient Boosting Results:\")\n",
        "print(f\"Best Parameters: {gb_params}\")\n",
        "print(f\"CV MSE: {gb_mse:.4f}\")\n",
        "print(f\"Test RMSE: {gb_mse:.4f}\\n\")"
      ]
    },
    {
      "cell_type": "markdown",
      "metadata": {
        "id": "Jj20eknJpduq"
      },
      "source": [
        "### Random Forest Regressor"
      ]
    },
    {
      "cell_type": "code",
      "execution_count": null,
      "metadata": {
        "colab": {
          "base_uri": "https://localhost:8080/"
        },
        "id": "ZMag3SGRpfWl",
        "outputId": "ac952225-a0f1-43db-82ca-5453d699aea6"
      },
      "outputs": [
        {
          "name": "stdout",
          "output_type": "stream",
          "text": [
            "Random Forest Results:\n",
            "Best Parameters: {'max_depth': None, 'max_features': 'sqrt', 'n_estimators': 200}\n",
            "CV MSE: 0.1435\n",
            "Test RMSE: 0.1435\n",
            "\n"
          ]
        }
      ],
      "source": [
        "from sklearn.ensemble import RandomForestRegressor\n",
        "\n",
        "rf_param_grid = {\n",
        "    'n_estimators': [100, 200],\n",
        "    'max_depth': [5, 10, None],\n",
        "    'max_features': ['sqrt', 'log2']\n",
        "}\n",
        "\n",
        "rf_params, rf_mse, rf_mse = evaluate_model(\n",
        "    RandomForestRegressor(random_state=69),\n",
        "    rf_param_grid,\n",
        "    Xtrain, Ytrain,\n",
        "    Xtest, Ytest\n",
        ")\n",
        "\n",
        "print(\"Random Forest Results:\")\n",
        "print(f\"Best Parameters: {rf_params}\")\n",
        "print(f\"CV MSE: {rf_mse:.4f}\")\n",
        "print(f\"Test RMSE: {rf_mse:.4f}\\n\")"
      ]
    },
    {
      "cell_type": "markdown",
      "metadata": {
        "id": "bpvWWEMtr7xg"
      },
      "source": [
        "### Decision Tree Regressor"
      ]
    },
    {
      "cell_type": "code",
      "execution_count": null,
      "metadata": {
        "colab": {
          "base_uri": "https://localhost:8080/"
        },
        "id": "-4ivkuOBr-wJ",
        "outputId": "37cc30ed-d4a8-4a03-f0a1-6fcf4c210b11"
      },
      "outputs": [
        {
          "name": "stdout",
          "output_type": "stream",
          "text": [
            "Decision Tree Results:\n",
            "Best Parameters: {'max_depth': 7, 'min_samples_split': 5}\n",
            "CV MSE: 0.1719\n",
            "Test RMSE: 0.1719\n"
          ]
        }
      ],
      "source": [
        "from sklearn.tree import DecisionTreeRegressor\n",
        "\n",
        "dt_param_grid = {\n",
        "    'max_depth': [3, 5, 7, None],\n",
        "    'min_samples_split': [2, 5, 10]\n",
        "}\n",
        "\n",
        "dt_params, dt_mse, dt_mse = evaluate_model(\n",
        "    DecisionTreeRegressor(random_state=0),\n",
        "    dt_param_grid,\n",
        "    Xtrain, Ytrain,\n",
        "    Xtest, Ytest\n",
        ")\n",
        "\n",
        "print(\"Decision Tree Results:\")\n",
        "print(f\"Best Parameters: {dt_params}\")\n",
        "print(f\"CV MSE: {dt_mse:.4f}\")\n",
        "print(f\"Test RMSE: {dt_mse:.4f}\")"
      ]
    },
    {
      "cell_type": "markdown",
      "metadata": {
        "id": "YOXO3eRVtdFA"
      },
      "source": [
        "## Regressor Evaluation"
      ]
    },
    {
      "cell_type": "markdown",
      "metadata": {
        "id": "4NH7HUohtfA5"
      },
      "source": [
        "From the above, since we used the helper function to evaluate all the 3 regressor models, we see that the Gradient Boosting Regressor performed the best with the **lowest test MSE score** of 0.1417. Hyperparameter tuning yields the following optimal parameters:\n",
        "\n",
        "1. `learning_rate = 0.05` (From scikit-learn: \"*Learning rate shrinks the contribution of each tree by learning_rate.*\")\n",
        "2. `max_depth = 5` (Maximum depth of the individual regression estimators. The maximum depth limits the number of nodes in the tree.)\n",
        "3. `n_estimators = 200` (The number of estimators as selected by early stopping)\n",
        "4. `subsample = 0.8` (The fraction of samples to be used for fitting the individual base learners. If smaller than 1.0 this results in **Stochastic Gradient Boosting**.)\n",
        "\n",
        "This is to be expected as Gradient Boosting methods generally perform well and are resistant to overfitting."
      ]
    }
  ],
  "metadata": {
    "colab": {
      "provenance": []
    },
    "kernelspec": {
      "display_name": ".venv",
      "language": "python",
      "name": "python3"
    },
    "language_info": {
      "name": "python",
      "version": "3.11.11"
    }
  },
  "nbformat": 4,
  "nbformat_minor": 0
}
