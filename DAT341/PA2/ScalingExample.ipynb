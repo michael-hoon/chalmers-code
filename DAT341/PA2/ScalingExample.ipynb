{
 "cells": [
  {
   "cell_type": "markdown",
   "metadata": {},
   "source": [
    "### Example of using feature scaling in scikit-learn"
   ]
  },
  {
   "cell_type": "code",
   "execution_count": null,
   "metadata": {
    "tags": []
   },
   "outputs": [],
   "source": [
    "import numpy as np\n",
    "import matplotlib.pyplot as plt\n",
    "%matplotlib inline"
   ]
  },
  {
   "cell_type": "markdown",
   "metadata": {},
   "source": [
    "For many learning algorithms it can be a major problem if the various features differ in terms of magnitude.\n",
    "\n",
    "To exemplify, we make a synthetic toy dataset by generating normally distributed numbers in two dimensions. The first dimension has a much larger variance than the second dimension, which you can see in the scatterplot."
   ]
  },
  {
   "cell_type": "code",
   "execution_count": null,
   "metadata": {},
   "outputs": [],
   "source": [
    "X = np.random.normal(size=(40, 2)) * [0.2, 10] + [1.7, -3.2]\n",
    "\n",
    "plt.figure(figsize=(5, 5))\n",
    "plt.scatter(X[:,0], X[:, 1], marker='.')\n",
    "plt.axis([-20, 20, -20, 20]);"
   ]
  },
  {
   "cell_type": "markdown",
   "metadata": {},
   "source": [
    "The `StandardScaler` applies the transformation\n",
    "$\n",
    "f_{new} = \\frac{f - \\bar{f}}{\\sigma_f}\n",
    "$ to each dimension, where $\\bar{f}$ is the mean and $\\sigma_f$ the standard deviation for that dimension. This will result in each dimension having a mean of 0 and a standard deviation of 1.\n",
    "\n",
    "Please note that when our data is stored in a *sparse* matrix, for instance when we have a `DictVectorizer` or a `CountVectorizer`, the `StandardScaler` will be created with the option `with_mean=False`. This means that we don't subtract $\\bar{f}$. The reason is that we want to keep the matrix sparse: if an entry was zero before the transformation, we'd like it to be zero after the transformation also.\n",
    "\n",
    "As usual, the call `fit_transform` consists of a call to `fit` and then to `transform`. In this case, `fit` will compute the mean and standard deviation, and then `transform` will apply the formula mentioned above."
   ]
  },
  {
   "cell_type": "code",
   "execution_count": null,
   "metadata": {},
   "outputs": [],
   "source": [
    "from sklearn.preprocessing import StandardScaler\n",
    "\n",
    "sc = StandardScaler()\n",
    "Xs = sc.fit_transform(X)"
   ]
  },
  {
   "cell_type": "markdown",
   "metadata": {},
   "source": [
    "Below is a plot of the same data, after the `StandardScaler` has been applied."
   ]
  },
  {
   "cell_type": "code",
   "execution_count": null,
   "metadata": {},
   "outputs": [],
   "source": [
    "plt.figure(figsize=(5, 5))\n",
    "plt.scatter(Xs[:,0], Xs[:, 1])\n",
    "plt.axis([-3, 3, -3, 3]);"
   ]
  },
  {
   "cell_type": "markdown",
   "metadata": {},
   "source": [
    "A `MinMaxScaler` instead apply the transformation $f_{new} = \\frac{f - f_{min}}{f_{max} - f_{min}}$, where $f_{min}$ and $f_{max}$ are the minimal and maximal values of the feature that we have observed in our training data.\n",
    "\n",
    "This will result in a transformed dataset where the new minimal value of each feature is 0, and the maximal value is 1."
   ]
  },
  {
   "cell_type": "code",
   "execution_count": null,
   "metadata": {},
   "outputs": [],
   "source": [
    "from sklearn.preprocessing import MinMaxScaler\n",
    "\n",
    "sc = MinMaxScaler()\n",
    "Xs = sc.fit_transform(X)"
   ]
  },
  {
   "cell_type": "code",
   "execution_count": null,
   "metadata": {},
   "outputs": [],
   "source": [
    "plt.figure(figsize=(5, 5))\n",
    "plt.scatter(Xs[:,0], Xs[:, 1])\n",
    "plt.axis([0, 1, 0, 1]);"
   ]
  },
  {
   "cell_type": "markdown",
   "metadata": {},
   "source": [
    "The `MaxAbsScaler` applies a similar transformation."
   ]
  }
 ],
 "metadata": {
  "kernelspec": {
   "display_name": "Python 3 (ipykernel)",
   "language": "python",
   "name": "python3"
  },
  "language_info": {
   "codemirror_mode": {
    "name": "ipython",
    "version": 3
   },
   "file_extension": ".py",
   "mimetype": "text/x-python",
   "name": "python",
   "nbconvert_exporter": "python",
   "pygments_lexer": "ipython3",
   "version": "3.12.2"
  }
 },
 "nbformat": 4,
 "nbformat_minor": 4
}
